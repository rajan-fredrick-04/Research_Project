{
 "cells": [
  {
   "cell_type": "code",
   "execution_count": 1,
   "metadata": {},
   "outputs": [],
   "source": [
    "import tabula\n",
    "import pandas as pd"
   ]
  },
  {
   "cell_type": "code",
   "execution_count": 2,
   "metadata": {},
   "outputs": [
    {
     "name": "stdout",
     "output_type": "stream",
     "text": [
      "Table extracted and saved to 'output_table.xlsx'\n"
     ]
    }
   ],
   "source": [
    "import camelot\n",
    "\n",
    "# Path to your PDF file\n",
    "pdf_path = 'Blooms-Taxonomy-Handout.pdf'\n",
    "\n",
    "# Extract tables from the PDF\n",
    "tables = camelot.read_pdf(pdf_path, pages='all')\n",
    "\n",
    "# Convert the first table to a DataFrame and export it to Excel\n",
    "if len(tables) > 0:\n",
    "    df = tables[0].df  # Extract the first table as a DataFrame\n",
    "    columns=df.iloc[0]\n",
    "    column_names=columns[0].split('\\n')\n",
    "    df.columns=column_names\n",
    "    df = df.drop(0) \n",
    "    df = df.replace('\\n', '', regex=True)\n",
    "    df.to_excel('Blooms_index.xlsx', index=False)\n",
    "    print(f\"Table extracted and saved to 'output_table.xlsx'\")\n",
    "else:\n",
    "    print(\"No table found in the PDF.\")\n"
   ]
  }
 ],
 "metadata": {
  "kernelspec": {
   "display_name": "base",
   "language": "python",
   "name": "python3"
  },
  "language_info": {
   "codemirror_mode": {
    "name": "ipython",
    "version": 3
   },
   "file_extension": ".py",
   "mimetype": "text/x-python",
   "name": "python",
   "nbconvert_exporter": "python",
   "pygments_lexer": "ipython3",
   "version": "3.11.5"
  }
 },
 "nbformat": 4,
 "nbformat_minor": 2
}
