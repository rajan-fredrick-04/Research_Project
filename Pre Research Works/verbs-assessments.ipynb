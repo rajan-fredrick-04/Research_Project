{
 "cells": [
  {
   "cell_type": "code",
   "execution_count": 1,
   "metadata": {},
   "outputs": [],
   "source": [
    "from docx import Document\n",
    "import pandas as pd\n",
    "import nltk\n",
    "from nltk.tokenize import word_tokenize\n",
    "import numpy as np\n",
    "import spacy\n",
    "from sklearn.metrics.pairwise import cosine_similarity\n",
    "import re"
   ]
  },
  {
   "cell_type": "markdown",
   "metadata": {},
   "source": [
    "## Teachers Upload their Syllabus "
   ]
  },
  {
   "cell_type": "code",
   "execution_count": 2,
   "metadata": {},
   "outputs": [],
   "source": [
    "# Load the document\n",
    "doc = Document('Syllabus.docx')\n",
    "\n",
    "# Initialize lists to store table data\n",
    "co_numbers = []\n",
    "course_outcomes = []\n",
    "\n",
    "# Assuming the data is in a table within the Word document\n",
    "for table in doc.tables:\n",
    "    for row in table.rows:\n",
    "        # Get the text from each cell in the row\n",
    "        cells = [cell.text.strip() for cell in row.cells]\n",
    "        \n",
    "        # Skip rows without the expected structure\n",
    "        if len(cells) == 2:\n",
    "            co_numbers.append(cells[0])\n",
    "            course_outcomes.append(cells[1])\n",
    "\n",
    "# Create a DataFrame\n",
    "# Directly create DataFrame from extracted table data if column headings are included\n",
    "df = pd.DataFrame([co_numbers, course_outcomes]).transpose()\n",
    "\n",
    "# Rename columns only if needed\n",
    "df.columns = df.iloc[0]  # Set the first row as the header\n",
    "df = df[1:].reset_index(drop=True)  # Drop the first row and reset the index\n"
   ]
  },
  {
   "cell_type": "markdown",
   "metadata": {},
   "source": [
    "### Extracted the syllabus - CO"
   ]
  },
  {
   "cell_type": "code",
   "execution_count": 3,
   "metadata": {},
   "outputs": [
    {
     "data": {
      "text/html": [
       "<div>\n",
       "<style scoped>\n",
       "    .dataframe tbody tr th:only-of-type {\n",
       "        vertical-align: middle;\n",
       "    }\n",
       "\n",
       "    .dataframe tbody tr th {\n",
       "        vertical-align: top;\n",
       "    }\n",
       "\n",
       "    .dataframe thead th {\n",
       "        text-align: right;\n",
       "    }\n",
       "</style>\n",
       "<table border=\"1\" class=\"dataframe\">\n",
       "  <thead>\n",
       "    <tr style=\"text-align: right;\">\n",
       "      <th></th>\n",
       "      <th>No.</th>\n",
       "      <th>Course Outcomes</th>\n",
       "    </tr>\n",
       "  </thead>\n",
       "  <tbody>\n",
       "    <tr>\n",
       "      <th>0</th>\n",
       "      <td>CO1</td>\n",
       "      <td>Understand the fundamental principles of image...</td>\n",
       "    </tr>\n",
       "    <tr>\n",
       "      <th>1</th>\n",
       "      <td>CO2</td>\n",
       "      <td>Develop proficiency in image enhancement and s...</td>\n",
       "    </tr>\n",
       "    <tr>\n",
       "      <th>2</th>\n",
       "      <td>CO3</td>\n",
       "      <td>Develop skills in object detection and recogni...</td>\n",
       "    </tr>\n",
       "    <tr>\n",
       "      <th>3</th>\n",
       "      <td>CO4</td>\n",
       "      <td>Apply the image and video analysis approaches ...</td>\n",
       "    </tr>\n",
       "  </tbody>\n",
       "</table>\n",
       "</div>"
      ],
      "text/plain": [
       "0  No.                                    Course Outcomes\n",
       "0  CO1  Understand the fundamental principles of image...\n",
       "1  CO2  Develop proficiency in image enhancement and s...\n",
       "2  CO3  Develop skills in object detection and recogni...\n",
       "3  CO4  Apply the image and video analysis approaches ..."
      ]
     },
     "execution_count": 3,
     "metadata": {},
     "output_type": "execute_result"
    }
   ],
   "source": [
    "df"
   ]
  },
  {
   "cell_type": "markdown",
   "metadata": {},
   "source": [
    "### Extracting the Units - Topics - Teaching Hours from syllabus"
   ]
  },
  {
   "cell_type": "code",
   "execution_count": 4,
   "metadata": {},
   "outputs": [
    {
     "name": "stdout",
     "output_type": "stream",
     "text": [
      "     Unit                                              Topic  \\\n",
      "0  Unit 1  Introduction to Digital Image and Video Proces...   \n",
      "1  Unit 2        Image and Video Enhancement and Restoration   \n",
      "2  Unit 3                        Image and Video Compression   \n",
      "3  Unit 4                  Feature Detection and Description   \n",
      "4  Unit 5                   Object Detection and Recognition   \n",
      "\n",
      "                                            Contents  Teaching Hours  \n",
      "0  Digital image representation, Sampling and Qua...              12  \n",
      "1  Spatial domain-Linear and Non-linear Filtering...              12  \n",
      "2  Fundamentals of Image Compression: Huffman Cod...              12  \n",
      "3  Introduction to feature detectors, Point, line...              12  \n",
      "4  Descriptors: Boundary descriptors - Fourier de...              12  \n"
     ]
    }
   ],
   "source": [
    "# Load the syllabus Word document\n",
    "doc = Document('Syllabus.docx')\n",
    "\n",
    "# Initialize variables to store units and their content\n",
    "units = []\n",
    "current_unit = None\n",
    "current_content = []\n",
    "\n",
    "# Parse through the document paragraphs\n",
    "for para in doc.paragraphs:\n",
    "    text = para.text.strip()\n",
    "\n",
    "    # Check for \"Unit\" and start a new unit\n",
    "    if text.startswith(\"Unit\"):\n",
    "        # Save the previous unit and its content\n",
    "        if current_unit:\n",
    "            units.append((current_unit, \" \".join(current_content)))\n",
    "        \n",
    "        # Start a new unit\n",
    "        current_unit = text\n",
    "        current_content = []\n",
    "    elif current_unit:\n",
    "        # Check if the paragraph contains Lab Exercises or Reading sections\n",
    "        if text.startswith(\"Lab Exercise\") or text.startswith(\"Essential Reading\") or text.startswith(\"Recommended Reading\"):\n",
    "            continue\n",
    "        # Accumulate content for the current unit\n",
    "        current_content.append(text)\n",
    "\n",
    "# Append the last unit\n",
    "if current_unit:\n",
    "    units.append((current_unit, \" \".join(current_content)))\n",
    "\n",
    "# Create a DataFrame with columns \"Unit\", \"Contents\"\n",
    "df_units = pd.DataFrame(units, columns=[\"Unit\", \"Contents\"])\n",
    "\n",
    "# Extract teaching hours using the specific pattern \"Teaching Hours: X\"\n",
    "def extract_hours(contents):\n",
    "    match = re.search(r\"Teaching Hours:\\s*(\\d+)\", contents)\n",
    "    return int(match.group(1)) if match else None\n",
    "\n",
    "# Extract content before \"Teaching Hours\"\n",
    "def extract_content_before_hours(contents):\n",
    "    if \"Teaching Hours\" in contents:\n",
    "        return contents.split(\"Teaching Hours\")[0].strip()\n",
    "    return contents.strip()\n",
    "\n",
    "# Apply content splitting and teaching hours extraction\n",
    "df_units['Teaching Hours'] = df_units['Contents'].apply(extract_hours)\n",
    "df_units['Contents'] = df_units['Contents'].apply(extract_content_before_hours)\n",
    "\n",
    "# Extract Topic from the unit by assuming it's the part of the string after \"Unit X:\"\n",
    "def extract_topic(unit):\n",
    "    # Match unit topic patterns with different possible delimiters\n",
    "    match = re.search(r\"Unit\\s*\\d+\\s*[:\\t\\s](.+)\", unit)\n",
    "    return match.group(1).strip() if match else \"\"  # Return empty string if no match\n",
    "\n",
    "\n",
    "# Apply topic extraction\n",
    "df_units['Topic'] = df_units['Unit'].apply(extract_topic)\n",
    "\n",
    "# Clean up \"Unit\" column to only contain the unit number (e.g., \"Unit 1\")\n",
    "df_units['Unit'] = df_units['Unit'].apply(lambda x: re.match(r\"Unit\\s*\\d+\", x).group())\n",
    "\n",
    "# Reorder columns for better readability\n",
    "df_units = df_units[['Unit', 'Topic', 'Contents', 'Teaching Hours']]\n",
    "\n",
    "# Display the DataFrame\n",
    "print(df_units)\n"
   ]
  },
  {
   "cell_type": "markdown",
   "metadata": {},
   "source": [
    "### Matching the units with their respective course outcomes based on the similarity score"
   ]
  },
  {
   "cell_type": "code",
   "execution_count": null,
   "metadata": {},
   "outputs": [
    {
     "name": "stdout",
     "output_type": "stream",
     "text": [
      "     Unit                                              Topic  \\\n",
      "0  Unit 1  introduction to digital image and video proces...   \n",
      "1  Unit 2        image and video enhancement and restoration   \n",
      "2  Unit 3                        image and video compression   \n",
      "3  Unit 4                  feature detection and description   \n",
      "4  Unit 5                   object detection and recognition   \n",
      "\n",
      "                                            Contents  Teaching Hours  \\\n",
      "0  Digital image representation, Sampling and Qua...              12   \n",
      "1  Spatial domain-Linear and Non-linear Filtering...              12   \n",
      "2  Fundamentals of Image Compression: Huffman Cod...              12   \n",
      "3  Introduction to feature detectors, Point, line...              12   \n",
      "4  Descriptors: Boundary descriptors - Fourier de...              12   \n",
      "\n",
      "                                     Course Outcomes  Similarity Score  \n",
      "0  apply the image and video analysis approaches ...          0.232597  \n",
      "1  develop proficiency in image enhancement and s...          0.350995  \n",
      "2  understand the fundamental principles of image...          0.228646  \n",
      "3  develop skills in object detection and recogni...          0.196493  \n",
      "4  develop skills in object detection and recogni...          0.682227  \n"
     ]
    }
   ],
   "source": [
    "from sklearn.feature_extraction.text import TfidfVectorizer\n",
    "\n",
    "# Preprocess text (lowercase for consistency)\n",
    "df['Course Outcomes'] = df['Course Outcomes'].str.lower()\n",
    "df_units['Topic'] = df_units['Topic'].str.lower()\n",
    "\n",
    "# Combine text data for vectorization\n",
    "all_text = pd.concat([df['Course Outcomes'], df_units['Topic']])\n",
    "\n",
    "# Vectorize using TF-IDF\n",
    "vectorizer = TfidfVectorizer()\n",
    "tfidf_matrix = vectorizer.fit_transform(all_text)\n",
    "\n",
    "# Separate vectors for Course Outcomes and Topics\n",
    "course_outcome_vectors = tfidf_matrix[:len(df)]\n",
    "topic_vectors = tfidf_matrix[len(df):]\n",
    "\n",
    "# Compute cosine similarity\n",
    "similarity_matrix = cosine_similarity(topic_vectors, course_outcome_vectors)\n",
    "\n",
    "# Find the most similar course outcome for each unit\n",
    "best_matches = []\n",
    "for i, topic in enumerate(df_units['Topic']):\n",
    "    # Get the index of the most similar course outcome\n",
    "    best_match_index = similarity_matrix[i].argmax()\n",
    "    best_match_score = similarity_matrix[i][best_match_index]\n",
    "    \n",
    "    # Append the best match and its score\n",
    "    best_matches.append({\n",
    "        'Matched Course Outcome': df.iloc[best_match_index]['Course Outcomes'],\n",
    "        'Similarity Score': best_match_score\n",
    "    })\n",
    "\n",
    "# Convert matches to a DataFrame\n",
    "matches_df = pd.DataFrame(best_matches)\n",
    "\n",
    "# Add the matched course outcome and score to df_units\n",
    "df_units['Course Outcomes'] = matches_df['Matched Course Outcome']\n",
    "df_units['Similarity Score'] = matches_df['Similarity Score']\n",
    "\n",
    "# Display the updated DataFrame\n",
    "print(df_units)\n",
    "\n",
    "\n",
    "df_units.to_excel(\"Extracted_Units_Updated.xlsx\", index=False)"
   ]
  },
  {
   "cell_type": "markdown",
   "metadata": {},
   "source": [
    "## Extract Verbs from the Course Outcomes"
   ]
  },
  {
   "cell_type": "code",
   "execution_count": 16,
   "metadata": {},
   "outputs": [],
   "source": [
    "# course_outcomes=[]\n",
    "# for i in range(len(df)):\n",
    "#     data=df_units['Course Outcomes'].iloc[i]\n",
    "#     course_outcomes.append(data)\n",
    "\n",
    "course_outcomes = df_units['Course Outcomes'].tolist()\n"
   ]
  },
  {
   "cell_type": "code",
   "execution_count": 17,
   "metadata": {},
   "outputs": [
    {
     "data": {
      "text/plain": [
       "['apply the image and video analysis approaches to solve real world problems',\n",
       " 'develop proficiency in image enhancement and segmentation',\n",
       " 'understand the fundamental principles of image and video analysis',\n",
       " 'develop skills in object detection and recognition',\n",
       " 'develop skills in object detection and recognition']"
      ]
     },
     "execution_count": 17,
     "metadata": {},
     "output_type": "execute_result"
    }
   ],
   "source": [
    "course_outcomes"
   ]
  },
  {
   "cell_type": "code",
   "execution_count": 18,
   "metadata": {},
   "outputs": [],
   "source": [
    "verbs=['VB','VBP','VBD','VBG','VBN','MD']"
   ]
  },
  {
   "cell_type": "code",
   "execution_count": 19,
   "metadata": {},
   "outputs": [],
   "source": [
    "# import nltk\n",
    "# from nltk.tokenize import word_tokenize\n",
    "# from nltk.corpus import stopwords\n",
    "\n",
    "# # Ensure nltk resources are downloaded\n",
    "# nltk.download('punkt')\n",
    "# nltk.download('averaged_perceptron_tagger')\n",
    "\n",
    "# # Extract Course Outcomes\n",
    "# course_outcomes = df_units['Course Outcomes'].tolist()\n",
    "\n",
    "# # Extract Verbs\n",
    "# verbs = ['VB', 'VBP', 'VBD', 'VBG', 'VBN', 'MD']  # Include modals if necessary\n",
    "# course_verbs = []\n",
    "\n",
    "# for i, outcome in enumerate(course_outcomes):\n",
    "#     if isinstance(outcome, str):\n",
    "#         outcome = outcome.lower().strip()\n",
    "#         tokens = word_tokenize(outcome)  # Tokenize text\n",
    "#         tagged_tokens = nltk.pos_tag(tokens)  # POS tagging\n",
    "#         print(f\"Unit {i+1} - Tagged Tokens: {tagged_tokens}\")  # Debug\n",
    "#         filtered_verbs = [word for word, tag in tagged_tokens if tag in verbs]  # Extract verbs\n",
    "#         if not filtered_verbs:\n",
    "#             print(f\"No verbs found for Unit {i+1}: {outcome}\")  # Log missing verbs\n",
    "#         course_verbs.append(filtered_verbs)\n",
    "#     else:\n",
    "#         course_verbs.append([])  # Handle missing or invalid data\n",
    "\n",
    "# # Assign to the DataFrame\n",
    "# df_units['Verbs']=course_verbs\n"
   ]
  },
  {
   "cell_type": "code",
   "execution_count": 20,
   "metadata": {},
   "outputs": [],
   "source": [
    "import spacy\n",
    "nlp = spacy.load(\"en_core_web_sm\")\n",
    "\n",
    "course_verbs = []\n",
    "for outcome in course_outcomes:\n",
    "    if isinstance(outcome, str):\n",
    "        doc = nlp(outcome.lower().strip())\n",
    "        filtered_verbs = [token.text for token in doc if token.pos_ == \"VERB\"]\n",
    "        course_verbs.append(filtered_verbs)\n",
    "    else:\n",
    "        course_verbs.append([])\n",
    "\n",
    "\n",
    "\n",
    "df_units['Verbs']=course_verbs"
   ]
  },
  {
   "cell_type": "code",
   "execution_count": 21,
   "metadata": {},
   "outputs": [
    {
     "data": {
      "text/plain": [
       "[['apply', 'solve'], ['develop'], ['understand'], ['develop'], ['develop']]"
      ]
     },
     "execution_count": 21,
     "metadata": {},
     "output_type": "execute_result"
    }
   ],
   "source": [
    "course_verbs"
   ]
  },
  {
   "cell_type": "markdown",
   "metadata": {},
   "source": [
    "### Dataframe of the units wit their CO and extracted verbs"
   ]
  },
  {
   "cell_type": "code",
   "execution_count": 15,
   "metadata": {},
   "outputs": [
    {
     "data": {
      "text/html": [
       "<div>\n",
       "<style scoped>\n",
       "    .dataframe tbody tr th:only-of-type {\n",
       "        vertical-align: middle;\n",
       "    }\n",
       "\n",
       "    .dataframe tbody tr th {\n",
       "        vertical-align: top;\n",
       "    }\n",
       "\n",
       "    .dataframe thead th {\n",
       "        text-align: right;\n",
       "    }\n",
       "</style>\n",
       "<table border=\"1\" class=\"dataframe\">\n",
       "  <thead>\n",
       "    <tr style=\"text-align: right;\">\n",
       "      <th></th>\n",
       "      <th>Unit</th>\n",
       "      <th>Topic</th>\n",
       "      <th>Contents</th>\n",
       "      <th>Teaching Hours</th>\n",
       "      <th>Course Outcomes</th>\n",
       "      <th>Similarity Score</th>\n",
       "      <th>Verbs</th>\n",
       "    </tr>\n",
       "  </thead>\n",
       "  <tbody>\n",
       "    <tr>\n",
       "      <th>0</th>\n",
       "      <td>Unit 1</td>\n",
       "      <td>introduction to digital image and video proces...</td>\n",
       "      <td>Digital image representation, Sampling and Qua...</td>\n",
       "      <td>12</td>\n",
       "      <td>apply the image and video analysis approaches ...</td>\n",
       "      <td>0.232597</td>\n",
       "      <td>[apply, solve]</td>\n",
       "    </tr>\n",
       "    <tr>\n",
       "      <th>1</th>\n",
       "      <td>Unit 2</td>\n",
       "      <td>image and video enhancement and restoration</td>\n",
       "      <td>Spatial domain-Linear and Non-linear Filtering...</td>\n",
       "      <td>12</td>\n",
       "      <td>develop proficiency in image enhancement and s...</td>\n",
       "      <td>0.350995</td>\n",
       "      <td>[develop]</td>\n",
       "    </tr>\n",
       "    <tr>\n",
       "      <th>2</th>\n",
       "      <td>Unit 3</td>\n",
       "      <td>image and video compression</td>\n",
       "      <td>Fundamentals of Image Compression: Huffman Cod...</td>\n",
       "      <td>12</td>\n",
       "      <td>understand the fundamental principles of image...</td>\n",
       "      <td>0.228646</td>\n",
       "      <td>[understand]</td>\n",
       "    </tr>\n",
       "    <tr>\n",
       "      <th>3</th>\n",
       "      <td>Unit 4</td>\n",
       "      <td>feature detection and description</td>\n",
       "      <td>Introduction to feature detectors, Point, line...</td>\n",
       "      <td>12</td>\n",
       "      <td>develop skills in object detection and recogni...</td>\n",
       "      <td>0.196493</td>\n",
       "      <td>[develop]</td>\n",
       "    </tr>\n",
       "    <tr>\n",
       "      <th>4</th>\n",
       "      <td>Unit 5</td>\n",
       "      <td>object detection and recognition</td>\n",
       "      <td>Descriptors: Boundary descriptors - Fourier de...</td>\n",
       "      <td>12</td>\n",
       "      <td>develop skills in object detection and recogni...</td>\n",
       "      <td>0.682227</td>\n",
       "      <td>[]</td>\n",
       "    </tr>\n",
       "  </tbody>\n",
       "</table>\n",
       "</div>"
      ],
      "text/plain": [
       "     Unit                                              Topic  \\\n",
       "0  Unit 1  introduction to digital image and video proces...   \n",
       "1  Unit 2        image and video enhancement and restoration   \n",
       "2  Unit 3                        image and video compression   \n",
       "3  Unit 4                  feature detection and description   \n",
       "4  Unit 5                   object detection and recognition   \n",
       "\n",
       "                                            Contents  Teaching Hours  \\\n",
       "0  Digital image representation, Sampling and Qua...              12   \n",
       "1  Spatial domain-Linear and Non-linear Filtering...              12   \n",
       "2  Fundamentals of Image Compression: Huffman Cod...              12   \n",
       "3  Introduction to feature detectors, Point, line...              12   \n",
       "4  Descriptors: Boundary descriptors - Fourier de...              12   \n",
       "\n",
       "                                     Course Outcomes  Similarity Score  \\\n",
       "0  apply the image and video analysis approaches ...          0.232597   \n",
       "1  develop proficiency in image enhancement and s...          0.350995   \n",
       "2  understand the fundamental principles of image...          0.228646   \n",
       "3  develop skills in object detection and recogni...          0.196493   \n",
       "4  develop skills in object detection and recogni...          0.682227   \n",
       "\n",
       "            Verbs  \n",
       "0  [apply, solve]  \n",
       "1       [develop]  \n",
       "2    [understand]  \n",
       "3       [develop]  \n",
       "4              []  "
      ]
     },
     "execution_count": 15,
     "metadata": {},
     "output_type": "execute_result"
    }
   ],
   "source": [
    "df_units"
   ]
  },
  {
   "cell_type": "markdown",
   "metadata": {},
   "source": [
    "### Load the defined verb-assesment dataset (grouped)"
   ]
  },
  {
   "cell_type": "code",
   "execution_count": 29,
   "metadata": {},
   "outputs": [],
   "source": [
    "df_assessments=pd.read_excel(\"Verbs-Assesments Grouped.xlsx\")"
   ]
  },
  {
   "cell_type": "code",
   "execution_count": 8,
   "metadata": {},
   "outputs": [
    {
     "data": {
      "text/html": [
       "<div>\n",
       "<style scoped>\n",
       "    .dataframe tbody tr th:only-of-type {\n",
       "        vertical-align: middle;\n",
       "    }\n",
       "\n",
       "    .dataframe tbody tr th {\n",
       "        vertical-align: top;\n",
       "    }\n",
       "\n",
       "    .dataframe thead th {\n",
       "        text-align: right;\n",
       "    }\n",
       "</style>\n",
       "<table border=\"1\" class=\"dataframe\">\n",
       "  <thead>\n",
       "    <tr style=\"text-align: right;\">\n",
       "      <th></th>\n",
       "      <th>Unnamed: 0</th>\n",
       "      <th>Verbs</th>\n",
       "      <th>Assessments</th>\n",
       "    </tr>\n",
       "  </thead>\n",
       "  <tbody>\n",
       "    <tr>\n",
       "      <th>0</th>\n",
       "      <td>0</td>\n",
       "      <td>(ann)</td>\n",
       "      <td>[]</td>\n",
       "    </tr>\n",
       "    <tr>\n",
       "      <th>1</th>\n",
       "      <td>1</td>\n",
       "      <td>(cnn)</td>\n",
       "      <td>[]</td>\n",
       "    </tr>\n",
       "    <tr>\n",
       "      <th>2</th>\n",
       "      <td>2</td>\n",
       "      <td>(rnn)</td>\n",
       "      <td>[]</td>\n",
       "    </tr>\n",
       "    <tr>\n",
       "      <th>3</th>\n",
       "      <td>3</td>\n",
       "      <td>according</td>\n",
       "      <td>['Activities such as problem sets, performance...</td>\n",
       "    </tr>\n",
       "    <tr>\n",
       "      <th>4</th>\n",
       "      <td>4</td>\n",
       "      <td>adequacy</td>\n",
       "      <td>['Activities such as journals, diaries, critiq...</td>\n",
       "    </tr>\n",
       "    <tr>\n",
       "      <th>...</th>\n",
       "      <td>...</td>\n",
       "      <td>...</td>\n",
       "      <td>...</td>\n",
       "    </tr>\n",
       "    <tr>\n",
       "      <th>77</th>\n",
       "      <td>77</td>\n",
       "      <td>using</td>\n",
       "      <td>['Activities such as research projects, musica...</td>\n",
       "    </tr>\n",
       "    <tr>\n",
       "      <th>78</th>\n",
       "      <td>78</td>\n",
       "      <td>utilizing</td>\n",
       "      <td>['Activities such as case studies, critiques, ...</td>\n",
       "    </tr>\n",
       "    <tr>\n",
       "      <th>79</th>\n",
       "      <td>79</td>\n",
       "      <td>verify</td>\n",
       "      <td>['Activities such as journals, diaries, critiq...</td>\n",
       "    </tr>\n",
       "    <tr>\n",
       "      <th>80</th>\n",
       "      <td>80</td>\n",
       "      <td>visualize</td>\n",
       "      <td>['Activities such as case studies, critiques, ...</td>\n",
       "    </tr>\n",
       "    <tr>\n",
       "      <th>81</th>\n",
       "      <td>81</td>\n",
       "      <td>writing</td>\n",
       "      <td>['Activities such as case studies, critiques, ...</td>\n",
       "    </tr>\n",
       "  </tbody>\n",
       "</table>\n",
       "<p>82 rows × 3 columns</p>\n",
       "</div>"
      ],
      "text/plain": [
       "    Unnamed: 0      Verbs                                        Assessments\n",
       "0            0      (ann)                                                 []\n",
       "1            1      (cnn)                                                 []\n",
       "2            2      (rnn)                                                 []\n",
       "3            3  according  ['Activities such as problem sets, performance...\n",
       "4            4   adequacy  ['Activities such as journals, diaries, critiq...\n",
       "..         ...        ...                                                ...\n",
       "77          77      using  ['Activities such as research projects, musica...\n",
       "78          78  utilizing  ['Activities such as case studies, critiques, ...\n",
       "79          79     verify  ['Activities such as journals, diaries, critiq...\n",
       "80          80  visualize  ['Activities such as case studies, critiques, ...\n",
       "81          81    writing  ['Activities such as case studies, critiques, ...\n",
       "\n",
       "[82 rows x 3 columns]"
      ]
     },
     "execution_count": 8,
     "metadata": {},
     "output_type": "execute_result"
    },
    {
     "ename": "",
     "evalue": "",
     "output_type": "error",
     "traceback": [
      "\u001b[1;31mnotebook controller is DISPOSED. \n",
      "\u001b[1;31mView Jupyter <a href='command:jupyter.viewOutput'>log</a> for further details."
     ]
    }
   ],
   "source": [
    "df_assessments"
   ]
  },
  {
   "cell_type": "code",
   "execution_count": 9,
   "metadata": {},
   "outputs": [
    {
     "data": {
      "text/plain": [
       "0         (ann)\n",
       "1         (cnn)\n",
       "2         (rnn)\n",
       "3     according\n",
       "4      adequacy\n",
       "        ...    \n",
       "77        using\n",
       "78    utilizing\n",
       "79       verify\n",
       "80    visualize\n",
       "81      writing\n",
       "Name: Verbs, Length: 82, dtype: object"
      ]
     },
     "execution_count": 9,
     "metadata": {},
     "output_type": "execute_result"
    },
    {
     "ename": "",
     "evalue": "",
     "output_type": "error",
     "traceback": [
      "\u001b[1;31mnotebook controller is DISPOSED. \n",
      "\u001b[1;31mView Jupyter <a href='command:jupyter.viewOutput'>log</a> for further details."
     ]
    }
   ],
   "source": [
    "df_assessments['Verbs']"
   ]
  },
  {
   "cell_type": "code",
   "execution_count": 10,
   "metadata": {},
   "outputs": [
    {
     "data": {
      "text/plain": [
       "['(ann)',\n",
       " '(cnn)',\n",
       " '(rnn)',\n",
       " 'according',\n",
       " 'adequacy',\n",
       " 'admit',\n",
       " 'advanced',\n",
       " 'analyse',\n",
       " 'analysis.',\n",
       " 'analyze',\n",
       " 'apply',\n",
       " 'applying',\n",
       " 'are',\n",
       " 'associated',\n",
       " 'based',\n",
       " 'be',\n",
       " 'classified',\n",
       " 'classify',\n",
       " 'computing',\n",
       " 'constructing',\n",
       " 'create',\n",
       " 'deciding',\n",
       " 'demonstrate',\n",
       " 'describe',\n",
       " 'describethemaintechnologiesandmethodscurrentlyusedincreating',\n",
       " 'designing',\n",
       " 'develop',\n",
       " 'developing',\n",
       " 'differentiate',\n",
       " 'displayed.',\n",
       " 'distributed',\n",
       " 'do',\n",
       " 'estimate',\n",
       " 'evaluate',\n",
       " 'evaluatethechallengesintraining',\n",
       " 'examine',\n",
       " 'forecast',\n",
       " 'formulate',\n",
       " 'formulated',\n",
       " 'gain',\n",
       " 'generated',\n",
       " 'given',\n",
       " 'grasp',\n",
       " 'identify',\n",
       " 'illustrate',\n",
       " 'implementing',\n",
       " 'including',\n",
       " 'infer',\n",
       " 'inherent',\n",
       " 'integrating',\n",
       " 'interpret',\n",
       " 'involved',\n",
       " 'know',\n",
       " 'knowledgeof',\n",
       " 'learning',\n",
       " 'linking',\n",
       " 'model.',\n",
       " 'organized',\n",
       " 'perform',\n",
       " 'present',\n",
       " 'processing',\n",
       " 'programming',\n",
       " 'reporting',\n",
       " 'represent',\n",
       " 'sampling',\n",
       " 'solve',\n",
       " 'solved',\n",
       " 'solving',\n",
       " 'specified',\n",
       " 'surrounding',\n",
       " 'testing',\n",
       " 'thei',\n",
       " 'think',\n",
       " 'understand',\n",
       " 'understanding',\n",
       " 'use',\n",
       " 'used',\n",
       " 'using',\n",
       " 'utilizing',\n",
       " 'verify',\n",
       " 'visualize',\n",
       " 'writing']"
      ]
     },
     "execution_count": 10,
     "metadata": {},
     "output_type": "execute_result"
    },
    {
     "ename": "",
     "evalue": "",
     "output_type": "error",
     "traceback": [
      "\u001b[1;31mnotebook controller is DISPOSED. \n",
      "\u001b[1;31mView Jupyter <a href='command:jupyter.viewOutput'>log</a> for further details."
     ]
    }
   ],
   "source": [
    "# Convert the 'verbs' column to lists of individual words, ignoring NaNs\n",
    "flattened_assessment_verbs = []\n",
    "for item in df_assessments['Verbs'].dropna():\n",
    "    flattened_assessment_verbs.extend([verb.strip() for verb in item.split(',')])\n",
    "\n",
    "flattened_assessment_verbs"
   ]
  },
  {
   "cell_type": "code",
   "execution_count": 11,
   "metadata": {},
   "outputs": [
    {
     "name": "stdout",
     "output_type": "stream",
     "text": [
      "82\n",
      "82\n"
     ]
    },
    {
     "ename": "",
     "evalue": "",
     "output_type": "error",
     "traceback": [
      "\u001b[1;31mnotebook controller is DISPOSED. \n",
      "\u001b[1;31mView Jupyter <a href='command:jupyter.viewOutput'>log</a> for further details."
     ]
    }
   ],
   "source": [
    "print(len(flattened_assessment_verbs))\n",
    "print(len(df_assessments))"
   ]
  },
  {
   "cell_type": "code",
   "execution_count": null,
   "metadata": {},
   "outputs": [
    {
     "ename": "",
     "evalue": "",
     "output_type": "error",
     "traceback": [
      "\u001b[1;31mnotebook controller is DISPOSED. \n",
      "\u001b[1;31mView Jupyter <a href='command:jupyter.viewOutput'>log</a> for further details."
     ]
    }
   ],
   "source": [
    "import numpy as np\n",
    "import pandas as pd\n",
    "import spacy\n",
    "from sklearn.metrics.pairwise import cosine_similarity\n",
    "\n",
    "# Load SpaCy model\n",
    "nlp = spacy.load(\"en_core_web_md\")\n",
    "\n",
    "# Function to get the SpaCy vector for a word\n",
    "def get_word_vector(word):\n",
    "    doc = nlp(word)\n",
    "    if doc.has_vector:\n",
    "        return doc.vector\n",
    "    else:\n",
    "        return np.zeros(nlp.vocab.vectors_length)  # Return zero vector if word not in vocabulary\n",
    "\n",
    "# Expand 'Verbs' column to match a flattened list\n",
    "expanded_rows = []\n",
    "for index, row in df_assessments.iterrows():\n",
    "    verbs = row['Verbs']\n",
    "    if pd.isna(verbs):  # Skip rows with NaN in 'Verbs'\n",
    "        continue\n",
    "    verb_list = [verb.strip() for verb in verbs.split(',')]  # Split multiple verbs into a list\n",
    "    for verb in verb_list:\n",
    "        expanded_rows.append({'Verbs': verb, 'Assessments': row['Assessments']})\n",
    "\n",
    "# Create a new expanded DataFrame\n",
    "expanded_df_assessments = pd.DataFrame(expanded_rows)\n"
   ]
  },
  {
   "cell_type": "code",
   "execution_count": 18,
   "metadata": {},
   "outputs": [
    {
     "data": {
      "text/html": [
       "<div>\n",
       "<style scoped>\n",
       "    .dataframe tbody tr th:only-of-type {\n",
       "        vertical-align: middle;\n",
       "    }\n",
       "\n",
       "    .dataframe tbody tr th {\n",
       "        vertical-align: top;\n",
       "    }\n",
       "\n",
       "    .dataframe thead th {\n",
       "        text-align: right;\n",
       "    }\n",
       "</style>\n",
       "<table border=\"1\" class=\"dataframe\">\n",
       "  <thead>\n",
       "    <tr style=\"text-align: right;\">\n",
       "      <th></th>\n",
       "      <th>Verbs</th>\n",
       "      <th>Assessments</th>\n",
       "    </tr>\n",
       "  </thead>\n",
       "  <tbody>\n",
       "    <tr>\n",
       "      <th>0</th>\n",
       "      <td>(ann)</td>\n",
       "      <td>[]</td>\n",
       "    </tr>\n",
       "    <tr>\n",
       "      <th>1</th>\n",
       "      <td>(cnn)</td>\n",
       "      <td>[]</td>\n",
       "    </tr>\n",
       "    <tr>\n",
       "      <th>2</th>\n",
       "      <td>(rnn)</td>\n",
       "      <td>[]</td>\n",
       "    </tr>\n",
       "    <tr>\n",
       "      <th>3</th>\n",
       "      <td>according</td>\n",
       "      <td>['Activities such as problem sets, performance...</td>\n",
       "    </tr>\n",
       "    <tr>\n",
       "      <th>4</th>\n",
       "      <td>adequacy</td>\n",
       "      <td>['Activities such as journals, diaries, critiq...</td>\n",
       "    </tr>\n",
       "    <tr>\n",
       "      <th>...</th>\n",
       "      <td>...</td>\n",
       "      <td>...</td>\n",
       "    </tr>\n",
       "    <tr>\n",
       "      <th>77</th>\n",
       "      <td>using</td>\n",
       "      <td>['Activities such as research projects, musica...</td>\n",
       "    </tr>\n",
       "    <tr>\n",
       "      <th>78</th>\n",
       "      <td>utilizing</td>\n",
       "      <td>['Activities such as case studies, critiques, ...</td>\n",
       "    </tr>\n",
       "    <tr>\n",
       "      <th>79</th>\n",
       "      <td>verify</td>\n",
       "      <td>['Activities such as journals, diaries, critiq...</td>\n",
       "    </tr>\n",
       "    <tr>\n",
       "      <th>80</th>\n",
       "      <td>visualize</td>\n",
       "      <td>['Activities such as case studies, critiques, ...</td>\n",
       "    </tr>\n",
       "    <tr>\n",
       "      <th>81</th>\n",
       "      <td>writing</td>\n",
       "      <td>['Activities such as case studies, critiques, ...</td>\n",
       "    </tr>\n",
       "  </tbody>\n",
       "</table>\n",
       "<p>82 rows × 2 columns</p>\n",
       "</div>"
      ],
      "text/plain": [
       "        Verbs                                        Assessments\n",
       "0       (ann)                                                 []\n",
       "1       (cnn)                                                 []\n",
       "2       (rnn)                                                 []\n",
       "3   according  ['Activities such as problem sets, performance...\n",
       "4    adequacy  ['Activities such as journals, diaries, critiq...\n",
       "..        ...                                                ...\n",
       "77      using  ['Activities such as research projects, musica...\n",
       "78  utilizing  ['Activities such as case studies, critiques, ...\n",
       "79     verify  ['Activities such as journals, diaries, critiq...\n",
       "80  visualize  ['Activities such as case studies, critiques, ...\n",
       "81    writing  ['Activities such as case studies, critiques, ...\n",
       "\n",
       "[82 rows x 2 columns]"
      ]
     },
     "execution_count": 18,
     "metadata": {},
     "output_type": "execute_result"
    },
    {
     "ename": "",
     "evalue": "",
     "output_type": "error",
     "traceback": [
      "\u001b[1;31mnotebook controller is DISPOSED. \n",
      "\u001b[1;31mView Jupyter <a href='command:jupyter.viewOutput'>log</a> for further details."
     ]
    },
    {
     "ename": "",
     "evalue": "",
     "output_type": "error",
     "traceback": [
      "\u001b[1;31mnotebook controller is DISPOSED. \n",
      "\u001b[1;31mView Jupyter <a href='command:jupyter.viewOutput'>log</a> for further details."
     ]
    },
    {
     "ename": "",
     "evalue": "",
     "output_type": "error",
     "traceback": [
      "\u001b[1;31mnotebook controller is DISPOSED. \n",
      "\u001b[1;31mView Jupyter <a href='command:jupyter.viewOutput'>log</a> for further details."
     ]
    }
   ],
   "source": [
    "expanded_df_assessments"
   ]
  },
  {
   "cell_type": "markdown",
   "metadata": {},
   "source": [
    "### Match and extract the assesments for the verbs extracted from the syllabus CO"
   ]
  },
  {
   "cell_type": "code",
   "execution_count": null,
   "metadata": {},
   "outputs": [
    {
     "ename": "",
     "evalue": "",
     "output_type": "error",
     "traceback": [
      "\u001b[1;31mnotebook controller is DISPOSED. \n",
      "\u001b[1;31mView Jupyter <a href='command:jupyter.viewOutput'>log</a> for further details."
     ]
    },
    {
     "ename": "",
     "evalue": "",
     "output_type": "error",
     "traceback": [
      "\u001b[1;31mnotebook controller is DISPOSED. \n",
      "\u001b[1;31mView Jupyter <a href='command:jupyter.viewOutput'>log</a> for further details."
     ]
    },
    {
     "ename": "",
     "evalue": "",
     "output_type": "error",
     "traceback": [
      "\u001b[1;31mnotebook controller is DISPOSED. \n",
      "\u001b[1;31mView Jupyter <a href='command:jupyter.viewOutput'>log</a> for further details."
     ]
    }
   ],
   "source": [
    "flattened_course_verbs = [verb for sublist in course_verbs for verb in sublist]"
   ]
  },
  {
   "cell_type": "code",
   "execution_count": 20,
   "metadata": {},
   "outputs": [
    {
     "name": "stdout",
     "output_type": "stream",
     "text": [
      "Verb: understand\n",
      "Matching Assessments:\n",
      "- ['activities such as case studies, critiques, labs, papers, projects, debates, or concept maps that require students to: discriminate or select relevant and irrelevant parts • determine how elements function together • determine bias, values, or underlying intent in presented material •', 'activities such as papers, exams, problem sets, class discussions, or concept maps that require students to: summarize readings, films, or speeches • compare and contrast two or more theories, events, or processes • classify or categorize cases, elements, or events using established criteria • paraphrase documents or speeches • find or identify examples or illustrations of a concept or principle •', 'activities such as problem sets, performances, labs, prototyping, or simulations that require students to: use procedures to solve or complete familiar or unfamiliar tasks • determine which procedure(s) are most appropriate for a given task •', 'objective test items such as fill-in-the-blank, matching, labeling, or multiple-choice questions that require students to: recall or recognize terms, facts, and concepts •', 'activities such as research projects, musical compositions, performances, essays, business plans, website designs, or set designs that require students to: make, build, design or generate something new •', 'activities such as journals, diaries, critiques, problem sets, product reviews, or studies that require students to: test, monitor, judge, or critique readings, performances, or products against established • criteria or standards']\n",
      "- ['activities such as case studies, critiques, labs, papers, projects, debates, or concept maps that require students to: discriminate or select relevant and irrelevant parts • determine how elements function together • determine bias, values, or underlying intent in presented material •', 'activities such as papers, exams, problem sets, class discussions, or concept maps that require students to: summarize readings, films, or speeches • compare and contrast two or more theories, events, or processes • classify or categorize cases, elements, or events using established criteria • paraphrase documents or speeches • find or identify examples or illustrations of a concept or principle •', 'objective test items such as fill-in-the-blank, matching, labeling, or multiple-choice questions that require students to: recall or recognize terms, facts, and concepts •', 'activities such as research projects, musical compositions, performances, essays, business plans, website designs, or set designs that require students to: make, build, design or generate something new •', 'activities such as journals, diaries, critiques, problem sets, product reviews, or studies that require students to: test, monitor, judge, or critique readings, performances, or products against established • criteria or standards']\n",
      "- ['activities such as case studies, critiques, labs, papers, projects, debates, or concept maps that require students to: discriminate or select relevant and irrelevant parts • determine how elements function together • determine bias, values, or underlying intent in presented material •', 'activities such as problem sets, performances, labs, prototyping, or simulations that require students to: use procedures to solve or complete familiar or unfamiliar tasks • determine which procedure(s) are most appropriate for a given task •', 'objective test items such as fill-in-the-blank, matching, labeling, or multiple-choice questions that require students to: recall or recognize terms, facts, and concepts •', 'activities such as research projects, musical compositions, performances, essays, business plans, website designs, or set designs that require students to: make, build, design or generate something new •', 'activities such as journals, diaries, critiques, problem sets, product reviews, or studies that require students to: test, monitor, judge, or critique readings, performances, or products against established • criteria or standards']\n",
      "- ['activities such as journals, diaries, critiques, problem sets, product reviews, or studies that require students to: test, monitor, judge, or critique readings, performances, or products against established • criteria or standards', 'activities such as case studies, critiques, labs, papers, projects, debates, or concept maps that require students to: discriminate or select relevant and irrelevant parts • determine how elements function together • determine bias, values, or underlying intent in presented material •', 'objective test items such as fill-in-the-blank, matching, labeling, or multiple-choice questions that require students to: recall or recognize terms, facts, and concepts •', 'activities such as problem sets, performances, labs, prototyping, or simulations that require students to: use procedures to solve or complete familiar or unfamiliar tasks • determine which procedure(s) are most appropriate for a given task •']\n",
      "- ['activities such as research projects, musical compositions, performances, essays, business plans, website designs, or set designs that require students to: make, build, design or generate something new •', 'activities such as journals, diaries, critiques, problem sets, product reviews, or studies that require students to: test, monitor, judge, or critique readings, performances, or products against established • criteria or standards', 'activities such as case studies, critiques, labs, papers, projects, debates, or concept maps that require students to: discriminate or select relevant and irrelevant parts • determine how elements function together • determine bias, values, or underlying intent in presented material •', 'objective test items such as fill-in-the-blank, matching, labeling, or multiple-choice questions that require students to: recall or recognize terms, facts, and concepts •']\n",
      "- ['objective test items such as fill-in-the-blank, matching, labeling, or multiple-choice questions that require students to: recall or recognize terms, facts, and concepts •']\n",
      "- []\n",
      "\n",
      "\n",
      "Verb: demonstrate\n",
      "Matching Assessments:\n",
      "- ['activities such as case studies, critiques, labs, papers, projects, debates, or concept maps that require students to: discriminate or select relevant and irrelevant parts • determine how elements function together • determine bias, values, or underlying intent in presented material •', 'activities such as papers, exams, problem sets, class discussions, or concept maps that require students to: summarize readings, films, or speeches • compare and contrast two or more theories, events, or processes • classify or categorize cases, elements, or events using established criteria • paraphrase documents or speeches • find or identify examples or illustrations of a concept or principle •', 'activities such as problem sets, performances, labs, prototyping, or simulations that require students to: use procedures to solve or complete familiar or unfamiliar tasks • determine which procedure(s) are most appropriate for a given task •', 'objective test items such as fill-in-the-blank, matching, labeling, or multiple-choice questions that require students to: recall or recognize terms, facts, and concepts •', 'activities such as research projects, musical compositions, performances, essays, business plans, website designs, or set designs that require students to: make, build, design or generate something new •', 'activities such as journals, diaries, critiques, problem sets, product reviews, or studies that require students to: test, monitor, judge, or critique readings, performances, or products against established • criteria or standards']\n",
      "- ['activities such as case studies, critiques, labs, papers, projects, debates, or concept maps that require students to: discriminate or select relevant and irrelevant parts • determine how elements function together • determine bias, values, or underlying intent in presented material •', 'activities such as problem sets, performances, labs, prototyping, or simulations that require students to: use procedures to solve or complete familiar or unfamiliar tasks • determine which procedure(s) are most appropriate for a given task •', 'objective test items such as fill-in-the-blank, matching, labeling, or multiple-choice questions that require students to: recall or recognize terms, facts, and concepts •', 'activities such as research projects, musical compositions, performances, essays, business plans, website designs, or set designs that require students to: make, build, design or generate something new •', 'activities such as journals, diaries, critiques, problem sets, product reviews, or studies that require students to: test, monitor, judge, or critique readings, performances, or products against established • criteria or standards']\n",
      "- ['activities such as research projects, musical compositions, performances, essays, business plans, website designs, or set designs that require students to: make, build, design or generate something new •', 'activities such as case studies, critiques, labs, papers, projects, debates, or concept maps that require students to: discriminate or select relevant and irrelevant parts • determine how elements function together • determine bias, values, or underlying intent in presented material •', 'activities such as papers, exams, problem sets, class discussions, or concept maps that require students to: summarize readings, films, or speeches • compare and contrast two or more theories, events, or processes • classify or categorize cases, elements, or events using established criteria • paraphrase documents or speeches • find or identify examples or illustrations of a concept or principle •', 'activities such as problem sets, performances, labs, prototyping, or simulations that require students to: use procedures to solve or complete familiar or unfamiliar tasks • determine which procedure(s) are most appropriate for a given task •']\n",
      "- ['activities such as research projects, musical compositions, performances, essays, business plans, website designs, or set designs that require students to: make, build, design or generate something new •', 'activities such as case studies, critiques, labs, papers, projects, debates, or concept maps that require students to: discriminate or select relevant and irrelevant parts • determine how elements function together • determine bias, values, or underlying intent in presented material •', 'activities such as problem sets, performances, labs, prototyping, or simulations that require students to: use procedures to solve or complete familiar or unfamiliar tasks • determine which procedure(s) are most appropriate for a given task •']\n",
      "- ['activities such as research projects, musical compositions, performances, essays, business plans, website designs, or set designs that require students to: make, build, design or generate something new •', 'activities such as case studies, critiques, labs, papers, projects, debates, or concept maps that require students to: discriminate or select relevant and irrelevant parts • determine how elements function together • determine bias, values, or underlying intent in presented material •', 'objective test items such as fill-in-the-blank, matching, labeling, or multiple-choice questions that require students to: recall or recognize terms, facts, and concepts •']\n",
      "- ['activities such as research projects, musical compositions, performances, essays, business plans, website designs, or set designs that require students to: make, build, design or generate something new •', 'objective test items such as fill-in-the-blank, matching, labeling, or multiple-choice questions that require students to: recall or recognize terms, facts, and concepts •', 'activities such as problem sets, performances, labs, prototyping, or simulations that require students to: use procedures to solve or complete familiar or unfamiliar tasks • determine which procedure(s) are most appropriate for a given task •']\n",
      "- []\n",
      "\n",
      "\n",
      "Verb: use\n",
      "Matching Assessments:\n",
      "- ['activities such as case studies, critiques, labs, papers, projects, debates, or concept maps that require students to: discriminate or select relevant and irrelevant parts • determine how elements function together • determine bias, values, or underlying intent in presented material •', 'activities such as papers, exams, problem sets, class discussions, or concept maps that require students to: summarize readings, films, or speeches • compare and contrast two or more theories, events, or processes • classify or categorize cases, elements, or events using established criteria • paraphrase documents or speeches • find or identify examples or illustrations of a concept or principle •', 'activities such as problem sets, performances, labs, prototyping, or simulations that require students to: use procedures to solve or complete familiar or unfamiliar tasks • determine which procedure(s) are most appropriate for a given task •', 'objective test items such as fill-in-the-blank, matching, labeling, or multiple-choice questions that require students to: recall or recognize terms, facts, and concepts •', 'activities such as research projects, musical compositions, performances, essays, business plans, website designs, or set designs that require students to: make, build, design or generate something new •', 'activities such as journals, diaries, critiques, problem sets, product reviews, or studies that require students to: test, monitor, judge, or critique readings, performances, or products against established • criteria or standards']\n",
      "- ['activities such as case studies, critiques, labs, papers, projects, debates, or concept maps that require students to: discriminate or select relevant and irrelevant parts • determine how elements function together • determine bias, values, or underlying intent in presented material •', 'activities such as problem sets, performances, labs, prototyping, or simulations that require students to: use procedures to solve or complete familiar or unfamiliar tasks • determine which procedure(s) are most appropriate for a given task •', 'objective test items such as fill-in-the-blank, matching, labeling, or multiple-choice questions that require students to: recall or recognize terms, facts, and concepts •', 'activities such as research projects, musical compositions, performances, essays, business plans, website designs, or set designs that require students to: make, build, design or generate something new •', 'activities such as journals, diaries, critiques, problem sets, product reviews, or studies that require students to: test, monitor, judge, or critique readings, performances, or products against established • criteria or standards']\n",
      "- ['activities such as case studies, critiques, labs, papers, projects, debates, or concept maps that require students to: discriminate or select relevant and irrelevant parts • determine how elements function together • determine bias, values, or underlying intent in presented material •', 'objective test items such as fill-in-the-blank, matching, labeling, or multiple-choice questions that require students to: recall or recognize terms, facts, and concepts •', 'activities such as papers, exams, problem sets, class discussions, or concept maps that require students to: summarize readings, films, or speeches • compare and contrast two or more theories, events, or processes • classify or categorize cases, elements, or events using established criteria • paraphrase documents or speeches • find or identify examples or illustrations of a concept or principle •']\n",
      "- ['activities such as research projects, musical compositions, performances, essays, business plans, website designs, or set designs that require students to: make, build, design or generate something new •', 'activities such as case studies, critiques, labs, papers, projects, debates, or concept maps that require students to: discriminate or select relevant and irrelevant parts • determine how elements function together • determine bias, values, or underlying intent in presented material •', 'activities such as papers, exams, problem sets, class discussions, or concept maps that require students to: summarize readings, films, or speeches • compare and contrast two or more theories, events, or processes • classify or categorize cases, elements, or events using established criteria • paraphrase documents or speeches • find or identify examples or illustrations of a concept or principle •', 'activities such as problem sets, performances, labs, prototyping, or simulations that require students to: use procedures to solve or complete familiar or unfamiliar tasks • determine which procedure(s) are most appropriate for a given task •']\n",
      "- ['activities such as research projects, musical compositions, performances, essays, business plans, website designs, or set designs that require students to: make, build, design or generate something new •', 'activities such as case studies, critiques, labs, papers, projects, debates, or concept maps that require students to: discriminate or select relevant and irrelevant parts • determine how elements function together • determine bias, values, or underlying intent in presented material •', 'activities such as problem sets, performances, labs, prototyping, or simulations that require students to: use procedures to solve or complete familiar or unfamiliar tasks • determine which procedure(s) are most appropriate for a given task •']\n",
      "- ['activities such as research projects, musical compositions, performances, essays, business plans, website designs, or set designs that require students to: make, build, design or generate something new •', 'activities such as case studies, critiques, labs, papers, projects, debates, or concept maps that require students to: discriminate or select relevant and irrelevant parts • determine how elements function together • determine bias, values, or underlying intent in presented material •', 'objective test items such as fill-in-the-blank, matching, labeling, or multiple-choice questions that require students to: recall or recognize terms, facts, and concepts •', 'activities such as problem sets, performances, labs, prototyping, or simulations that require students to: use procedures to solve or complete familiar or unfamiliar tasks • determine which procedure(s) are most appropriate for a given task •']\n",
      "- ['activities such as research projects, musical compositions, performances, essays, business plans, website designs, or set designs that require students to: make, build, design or generate something new •', 'activities such as case studies, critiques, labs, papers, projects, debates, or concept maps that require students to: discriminate or select relevant and irrelevant parts • determine how elements function together • determine bias, values, or underlying intent in presented material •', 'objective test items such as fill-in-the-blank, matching, labeling, or multiple-choice questions that require students to: recall or recognize terms, facts, and concepts •']\n",
      "- ['activities such as research projects, musical compositions, performances, essays, business plans, website designs, or set designs that require students to: make, build, design or generate something new •', 'objective test items such as fill-in-the-blank, matching, labeling, or multiple-choice questions that require students to: recall or recognize terms, facts, and concepts •', 'activities such as problem sets, performances, labs, prototyping, or simulations that require students to: use procedures to solve or complete familiar or unfamiliar tasks • determine which procedure(s) are most appropriate for a given task •']\n",
      "- []\n",
      "\n",
      "\n",
      "Verb: processing\n",
      "Matching Assessments:\n",
      "- ['activities such as case studies, critiques, labs, papers, projects, debates, or concept maps that require students to: discriminate or select relevant and irrelevant parts • determine how elements function together • determine bias, values, or underlying intent in presented material •', 'activities such as papers, exams, problem sets, class discussions, or concept maps that require students to: summarize readings, films, or speeches • compare and contrast two or more theories, events, or processes • classify or categorize cases, elements, or events using established criteria • paraphrase documents or speeches • find or identify examples or illustrations of a concept or principle •', 'activities such as problem sets, performances, labs, prototyping, or simulations that require students to: use procedures to solve or complete familiar or unfamiliar tasks • determine which procedure(s) are most appropriate for a given task •', 'objective test items such as fill-in-the-blank, matching, labeling, or multiple-choice questions that require students to: recall or recognize terms, facts, and concepts •', 'activities such as research projects, musical compositions, performances, essays, business plans, website designs, or set designs that require students to: make, build, design or generate something new •', 'activities such as journals, diaries, critiques, problem sets, product reviews, or studies that require students to: test, monitor, judge, or critique readings, performances, or products against established • criteria or standards']\n",
      "- ['activities such as case studies, critiques, labs, papers, projects, debates, or concept maps that require students to: discriminate or select relevant and irrelevant parts • determine how elements function together • determine bias, values, or underlying intent in presented material •', 'activities such as papers, exams, problem sets, class discussions, or concept maps that require students to: summarize readings, films, or speeches • compare and contrast two or more theories, events, or processes • classify or categorize cases, elements, or events using established criteria • paraphrase documents or speeches • find or identify examples or illustrations of a concept or principle •', 'activities such as problem sets, performances, labs, prototyping, or simulations that require students to: use procedures to solve or complete familiar or unfamiliar tasks • determine which procedure(s) are most appropriate for a given task •', 'objective test items such as fill-in-the-blank, matching, labeling, or multiple-choice questions that require students to: recall or recognize terms, facts, and concepts •', 'activities such as research projects, musical compositions, performances, essays, business plans, website designs, or set designs that require students to: make, build, design or generate something new •']\n",
      "- ['activities such as research projects, musical compositions, performances, essays, business plans, website designs, or set designs that require students to: make, build, design or generate something new •', 'activities such as case studies, critiques, labs, papers, projects, debates, or concept maps that require students to: discriminate or select relevant and irrelevant parts • determine how elements function together • determine bias, values, or underlying intent in presented material •', 'activities such as papers, exams, problem sets, class discussions, or concept maps that require students to: summarize readings, films, or speeches • compare and contrast two or more theories, events, or processes • classify or categorize cases, elements, or events using established criteria • paraphrase documents or speeches • find or identify examples or illustrations of a concept or principle •', 'activities such as problem sets, performances, labs, prototyping, or simulations that require students to: use procedures to solve or complete familiar or unfamiliar tasks • determine which procedure(s) are most appropriate for a given task •']\n",
      "\n",
      "\n",
      "Verb: using\n",
      "Matching Assessments:\n",
      "- ['activities such as case studies, critiques, labs, papers, projects, debates, or concept maps that require students to: discriminate or select relevant and irrelevant parts • determine how elements function together • determine bias, values, or underlying intent in presented material •', 'activities such as papers, exams, problem sets, class discussions, or concept maps that require students to: summarize readings, films, or speeches • compare and contrast two or more theories, events, or processes • classify or categorize cases, elements, or events using established criteria • paraphrase documents or speeches • find or identify examples or illustrations of a concept or principle •', 'activities such as problem sets, performances, labs, prototyping, or simulations that require students to: use procedures to solve or complete familiar or unfamiliar tasks • determine which procedure(s) are most appropriate for a given task •', 'objective test items such as fill-in-the-blank, matching, labeling, or multiple-choice questions that require students to: recall or recognize terms, facts, and concepts •', 'activities such as research projects, musical compositions, performances, essays, business plans, website designs, or set designs that require students to: make, build, design or generate something new •', 'activities such as journals, diaries, critiques, problem sets, product reviews, or studies that require students to: test, monitor, judge, or critique readings, performances, or products against established • criteria or standards']\n",
      "- ['activities such as case studies, critiques, labs, papers, projects, debates, or concept maps that require students to: discriminate or select relevant and irrelevant parts • determine how elements function together • determine bias, values, or underlying intent in presented material •', 'activities such as problem sets, performances, labs, prototyping, or simulations that require students to: use procedures to solve or complete familiar or unfamiliar tasks • determine which procedure(s) are most appropriate for a given task •', 'objective test items such as fill-in-the-blank, matching, labeling, or multiple-choice questions that require students to: recall or recognize terms, facts, and concepts •', 'activities such as research projects, musical compositions, performances, essays, business plans, website designs, or set designs that require students to: make, build, design or generate something new •', 'activities such as journals, diaries, critiques, problem sets, product reviews, or studies that require students to: test, monitor, judge, or critique readings, performances, or products against established • criteria or standards']\n",
      "- ['activities such as problem sets, performances, labs, prototyping, or simulations that require students to: use procedures to solve or complete familiar or unfamiliar tasks • determine which procedure(s) are most appropriate for a given task •']\n",
      "- ['activities such as research projects, musical compositions, performances, essays, business plans, website designs, or set designs that require students to: make, build, design or generate something new •', 'activities such as case studies, critiques, labs, papers, projects, debates, or concept maps that require students to: discriminate or select relevant and irrelevant parts • determine how elements function together • determine bias, values, or underlying intent in presented material •', 'activities such as problem sets, performances, labs, prototyping, or simulations that require students to: use procedures to solve or complete familiar or unfamiliar tasks • determine which procedure(s) are most appropriate for a given task •']\n",
      "- ['activities such as research projects, musical compositions, performances, essays, business plans, website designs, or set designs that require students to: make, build, design or generate something new •', 'activities such as case studies, critiques, labs, papers, projects, debates, or concept maps that require students to: discriminate or select relevant and irrelevant parts • determine how elements function together • determine bias, values, or underlying intent in presented material •', 'objective test items such as fill-in-the-blank, matching, labeling, or multiple-choice questions that require students to: recall or recognize terms, facts, and concepts •', 'activities such as problem sets, performances, labs, prototyping, or simulations that require students to: use procedures to solve or complete familiar or unfamiliar tasks • determine which procedure(s) are most appropriate for a given task •']\n",
      "- ['activities such as research projects, musical compositions, performances, essays, business plans, website designs, or set designs that require students to: make, build, design or generate something new •', 'activities such as case studies, critiques, labs, papers, projects, debates, or concept maps that require students to: discriminate or select relevant and irrelevant parts • determine how elements function together • determine bias, values, or underlying intent in presented material •', 'objective test items such as fill-in-the-blank, matching, labeling, or multiple-choice questions that require students to: recall or recognize terms, facts, and concepts •']\n",
      "- []\n",
      "\n",
      "\n",
      "         Verbs                                        Assessments\n",
      "0   understand  ['activities such as case studies, critiques, ...\n",
      "1  demonstrate  ['activities such as case studies, critiques, ...\n",
      "2          use  ['activities such as case studies, critiques, ...\n",
      "3   processing  ['activities such as case studies, critiques, ...\n",
      "4        using  ['activities such as case studies, critiques, ...\n"
     ]
    },
    {
     "ename": "",
     "evalue": "",
     "output_type": "error",
     "traceback": [
      "\u001b[1;31mnotebook controller is DISPOSED. \n",
      "\u001b[1;31mView Jupyter <a href='command:jupyter.viewOutput'>log</a> for further details."
     ]
    },
    {
     "ename": "",
     "evalue": "",
     "output_type": "error",
     "traceback": [
      "\u001b[1;31mnotebook controller is DISPOSED. \n",
      "\u001b[1;31mView Jupyter <a href='command:jupyter.viewOutput'>log</a> for further details."
     ]
    },
    {
     "ename": "",
     "evalue": "",
     "output_type": "error",
     "traceback": [
      "\u001b[1;31mnotebook controller is DISPOSED. \n",
      "\u001b[1;31mView Jupyter <a href='command:jupyter.viewOutput'>log</a> for further details."
     ]
    }
   ],
   "source": [
    "# Flattened assessment verbs\n",
    "flattened_assessment_verbs = expanded_df_assessments['Verbs'].tolist()\n",
    "\n",
    "# Convert course verbs and assessment verbs to vectors\n",
    "course_verb_vectors = np.array([get_word_vector(verb) for verb in flattened_course_verbs])\n",
    "assessment_verb_vectors = np.array([get_word_vector(verb) for verb in flattened_assessment_verbs])\n",
    "\n",
    "# Similarity threshold\n",
    "threshold = 0.5\n",
    "\n",
    "# Dictionary to store matching assessments\n",
    "matching_assessments = {}\n",
    "\n",
    "# Function to normalize assessments (you can extend this for more complex cases)\n",
    "def normalize_assessment(assessment):\n",
    "    # Strip leading/trailing spaces and convert to lowercase\n",
    "    return assessment.strip().lower()\n",
    "\n",
    "for i, course_verb in enumerate(flattened_course_verbs):\n",
    "    matching_assessments[course_verb] = set()  # Use a set to avoid duplicate assessments\n",
    "\n",
    "    # Calculate cosine similarity between the course verb and each assessment verb\n",
    "    sim_scores = cosine_similarity([course_verb_vectors[i]], assessment_verb_vectors).flatten()\n",
    "\n",
    "    # Find assessment verbs with similarity scores above the threshold\n",
    "    for j, score in enumerate(sim_scores):\n",
    "        if score > threshold:\n",
    "            if 0 <= j < len(expanded_df_assessments):  # Ensure index is valid\n",
    "                normalized_assessment = normalize_assessment(expanded_df_assessments.iloc[j]['Assessments'])\n",
    "                matching_assessments[course_verb].add(normalized_assessment)  # Store normalized assessment\n",
    "\n",
    "# Print results\n",
    "# Create an empty DataFrame with specified columns\n",
    "df_matchass = pd.DataFrame(columns=[\"Verbs\", \"Assessments\"])\n",
    "\n",
    "# Iterate through matching assessments\n",
    "for verb, assessments in matching_assessments.items():\n",
    "    print(f\"Verb: {verb}\")\n",
    "    if assessments:\n",
    "        print(\"Matching Assessments:\")\n",
    "        # Sort and remove duplicates (optional, for better display)\n",
    "        unique_assessments = sorted(set(assessments))\n",
    "        print(\"\\n\".join(f\"- {assessment}\" for assessment in unique_assessments))\n",
    "        \n",
    "        # Create a new row as a DataFrame\n",
    "        new_row = pd.DataFrame({\n",
    "            \"Verbs\": [verb],\n",
    "            \"Assessments\": [\", \".join(unique_assessments)]\n",
    "        })\n",
    "        \n",
    "        # Concatenate the new row to the existing DataFrame\n",
    "        df_matchass = pd.concat([df_matchass, new_row], ignore_index=True)\n",
    "    else:\n",
    "        print(\"No matching assessments found.\")\n",
    "    print(\"\\n\")\n",
    "\n",
    "# Display the resulting DataFrame\n",
    "print(df_matchass)\n",
    "\n",
    "\n",
    "\n"
   ]
  },
  {
   "cell_type": "code",
   "execution_count": 21,
   "metadata": {},
   "outputs": [
    {
     "ename": "",
     "evalue": "",
     "output_type": "error",
     "traceback": [
      "\u001b[1;31mnotebook controller is DISPOSED. \n",
      "\u001b[1;31mView Jupyter <a href='command:jupyter.viewOutput'>log</a> for further details."
     ]
    },
    {
     "ename": "",
     "evalue": "",
     "output_type": "error",
     "traceback": [
      "\u001b[1;31mnotebook controller is DISPOSED. \n",
      "\u001b[1;31mView Jupyter <a href='command:jupyter.viewOutput'>log</a> for further details."
     ]
    },
    {
     "ename": "",
     "evalue": "",
     "output_type": "error",
     "traceback": [
      "\u001b[1;31mnotebook controller is DISPOSED. \n",
      "\u001b[1;31mView Jupyter <a href='command:jupyter.viewOutput'>log</a> for further details."
     ]
    }
   ],
   "source": [
    "df_matchass\n",
    "df_matchass.to_excel('match.xlsx')"
   ]
  },
  {
   "cell_type": "code",
   "execution_count": 22,
   "metadata": {},
   "outputs": [
    {
     "ename": "",
     "evalue": "",
     "output_type": "error",
     "traceback": [
      "\u001b[1;31mnotebook controller is DISPOSED. \n",
      "\u001b[1;31mView Jupyter <a href='command:jupyter.viewOutput'>log</a> for further details."
     ]
    },
    {
     "ename": "",
     "evalue": "",
     "output_type": "error",
     "traceback": [
      "\u001b[1;31mnotebook controller is DISPOSED. \n",
      "\u001b[1;31mView Jupyter <a href='command:jupyter.viewOutput'>log</a> for further details."
     ]
    },
    {
     "ename": "",
     "evalue": "",
     "output_type": "error",
     "traceback": [
      "\u001b[1;31mnotebook controller is DISPOSED. \n",
      "\u001b[1;31mView Jupyter <a href='command:jupyter.viewOutput'>log</a> for further details."
     ]
    }
   ],
   "source": [
    "import pandas as pd\n",
    "import re  # To escape special characters in the verb\n",
    "\n",
    "# Sample data\n",
    "# df_units: Table 1 with a list of verbs in the \"Verbs\" column\n",
    "# df_matchass: Table 2 with verbs and corresponding assessments\n",
    "\n",
    "# Assuming df_units has a column \"Verbs\" containing lists of verbs\n",
    "# and df_matchass has a column \"Verbs\" (string) and \"Assessments\" (string)\n",
    "\n",
    "# Create an empty list to store assessments for each row in df_units\n",
    "assessments = []\n",
    "\n",
    "# Iterate over each row in df_units\n",
    "for index, row in df_units.iterrows():\n",
    "    # Initialize a list to store matched assessments for each verb list\n",
    "    matched_assessments = []\n",
    "    \n",
    "    # Iterate over the list of verbs in the \"Verbs\" column of df_units\n",
    "    for verb in row['Verbs']:\n",
    "        # Escape special characters in the verb for regex matching\n",
    "        escaped_verb = re.escape(verb)\n",
    "        \n",
    "        # Check if the verb exists in df_matchass\n",
    "        matching_rows = df_matchass[df_matchass['Verbs'].str.contains(escaped_verb, case=False, na=False)]\n",
    "        \n",
    "        # If there are matches, collect the corresponding assessments\n",
    "        if not matching_rows.empty:\n",
    "            matched_assessments.extend(matching_rows['Assessments'].tolist())\n",
    "    \n",
    "    # Remove duplicate assessments if any and add to the list\n",
    "    matched_assessments = list(set(matched_assessments))\n",
    "    \n",
    "    # Append the matched assessments to the assessments list\n",
    "    assessments.append(matched_assessments)\n",
    "\n",
    "# Add the new \"Assessment\" column to df_units\n",
    "df_units['Assessments'] = assessments\n",
    "\n",
    "# Now, df_units will have an additional \"Assessments\" column with the matched assessments\n"
   ]
  },
  {
   "cell_type": "code",
   "execution_count": 23,
   "metadata": {},
   "outputs": [
    {
     "data": {
      "text/html": [
       "<div>\n",
       "<style scoped>\n",
       "    .dataframe tbody tr th:only-of-type {\n",
       "        vertical-align: middle;\n",
       "    }\n",
       "\n",
       "    .dataframe tbody tr th {\n",
       "        vertical-align: top;\n",
       "    }\n",
       "\n",
       "    .dataframe thead th {\n",
       "        text-align: right;\n",
       "    }\n",
       "</style>\n",
       "<table border=\"1\" class=\"dataframe\">\n",
       "  <thead>\n",
       "    <tr style=\"text-align: right;\">\n",
       "      <th></th>\n",
       "      <th>Unit</th>\n",
       "      <th>Topic</th>\n",
       "      <th>Contents</th>\n",
       "      <th>Teaching Hours</th>\n",
       "      <th>Course Outcomes</th>\n",
       "      <th>Similarity Score</th>\n",
       "      <th>Verbs</th>\n",
       "      <th>Assessments</th>\n",
       "    </tr>\n",
       "  </thead>\n",
       "  <tbody>\n",
       "    <tr>\n",
       "      <th>0</th>\n",
       "      <td>Unit 1</td>\n",
       "      <td>introduction</td>\n",
       "      <td>Concepts of Data Analytics: Descriptive, Diagn...</td>\n",
       "      <td>15</td>\n",
       "      <td>understand the big data concepts in real time ...</td>\n",
       "      <td>0.000000</td>\n",
       "      <td>understand</td>\n",
       "      <td>[['activities such as case studies, critiques,...</td>\n",
       "    </tr>\n",
       "    <tr>\n",
       "      <th>1</th>\n",
       "      <td>Unit 2</td>\n",
       "      <td>big data architecture</td>\n",
       "      <td>Standard Big data architecture - Big data appl...</td>\n",
       "      <td>15</td>\n",
       "      <td>analyze the big data under spark architecture</td>\n",
       "      <td>0.526814</td>\n",
       "      <td></td>\n",
       "      <td>[]</td>\n",
       "    </tr>\n",
       "    <tr>\n",
       "      <th>2</th>\n",
       "      <td>Unit 3</td>\n",
       "      <td>parallel processing with mapreduce</td>\n",
       "      <td>Introduction to MapReduce - Sample MapReduce a...</td>\n",
       "      <td>15</td>\n",
       "      <td>demonstrate an ability to use hadoop framework...</td>\n",
       "      <td>0.085745</td>\n",
       "      <td>demonstrateuseprocessing</td>\n",
       "      <td>[['activities such as case studies, critiques,...</td>\n",
       "    </tr>\n",
       "    <tr>\n",
       "      <th>3</th>\n",
       "      <td>Unit 4</td>\n",
       "      <td>hive and pig</td>\n",
       "      <td>Hive Architecture - Components - Data Definiti...</td>\n",
       "      <td>15</td>\n",
       "      <td>demonstrate the programming of big data using ...</td>\n",
       "      <td>0.524799</td>\n",
       "      <td>demonstrateusing</td>\n",
       "      <td>[['activities such as case studies, critiques,...</td>\n",
       "    </tr>\n",
       "    <tr>\n",
       "      <th>4</th>\n",
       "      <td>Unit 5</td>\n",
       "      <td>stream processing with spark</td>\n",
       "      <td>Stream processing Models and Tools - Apache Sp...</td>\n",
       "      <td>15</td>\n",
       "      <td>analyze the big data under spark architecture</td>\n",
       "      <td>0.195990</td>\n",
       "      <td></td>\n",
       "      <td>[]</td>\n",
       "    </tr>\n",
       "  </tbody>\n",
       "</table>\n",
       "</div>"
      ],
      "text/plain": [
       "     Unit                               Topic  \\\n",
       "0  Unit 1                        introduction   \n",
       "1  Unit 2               big data architecture   \n",
       "2  Unit 3  parallel processing with mapreduce   \n",
       "3  Unit 4                        hive and pig   \n",
       "4  Unit 5        stream processing with spark   \n",
       "\n",
       "                                            Contents  Teaching Hours  \\\n",
       "0  Concepts of Data Analytics: Descriptive, Diagn...              15   \n",
       "1  Standard Big data architecture - Big data appl...              15   \n",
       "2  Introduction to MapReduce - Sample MapReduce a...              15   \n",
       "3  Hive Architecture - Components - Data Definiti...              15   \n",
       "4  Stream processing Models and Tools - Apache Sp...              15   \n",
       "\n",
       "                                     Course Outcomes  Similarity Score  \\\n",
       "0  understand the big data concepts in real time ...          0.000000   \n",
       "1      analyze the big data under spark architecture          0.526814   \n",
       "2  demonstrate an ability to use hadoop framework...          0.085745   \n",
       "3  demonstrate the programming of big data using ...          0.524799   \n",
       "4      analyze the big data under spark architecture          0.195990   \n",
       "\n",
       "                      Verbs                                        Assessments  \n",
       "0                understand  [['activities such as case studies, critiques,...  \n",
       "1                                                                           []  \n",
       "2  demonstrateuseprocessing  [['activities such as case studies, critiques,...  \n",
       "3          demonstrateusing  [['activities such as case studies, critiques,...  \n",
       "4                                                                           []  "
      ]
     },
     "execution_count": 23,
     "metadata": {},
     "output_type": "execute_result"
    },
    {
     "ename": "",
     "evalue": "",
     "output_type": "error",
     "traceback": [
      "\u001b[1;31mnotebook controller is DISPOSED. \n",
      "\u001b[1;31mView Jupyter <a href='command:jupyter.viewOutput'>log</a> for further details."
     ]
    },
    {
     "ename": "",
     "evalue": "",
     "output_type": "error",
     "traceback": [
      "\u001b[1;31mnotebook controller is DISPOSED. \n",
      "\u001b[1;31mView Jupyter <a href='command:jupyter.viewOutput'>log</a> for further details."
     ]
    },
    {
     "ename": "",
     "evalue": "",
     "output_type": "error",
     "traceback": [
      "\u001b[1;31mnotebook controller is DISPOSED. \n",
      "\u001b[1;31mView Jupyter <a href='command:jupyter.viewOutput'>log</a> for further details."
     ]
    }
   ],
   "source": [
    "# Assuming df_units is the DataFrame you provided\n",
    "\n",
    "# Convert the list of characters in the \"Verbs\" column back to strings\n",
    "df_units['Verbs'] = df_units['Verbs'].apply(lambda x: ''.join(x) if isinstance(x, list) else x)\n",
    "\n",
    "# Check the updated DataFrame\n",
    "df_units\n"
   ]
  },
  {
   "cell_type": "code",
   "execution_count": 24,
   "metadata": {},
   "outputs": [
    {
     "ename": "",
     "evalue": "",
     "output_type": "error",
     "traceback": [
      "\u001b[1;31mnotebook controller is DISPOSED. \n",
      "\u001b[1;31mView Jupyter <a href='command:jupyter.viewOutput'>log</a> for further details."
     ]
    },
    {
     "ename": "",
     "evalue": "",
     "output_type": "error",
     "traceback": [
      "\u001b[1;31mnotebook controller is DISPOSED. \n",
      "\u001b[1;31mView Jupyter <a href='command:jupyter.viewOutput'>log</a> for further details."
     ]
    },
    {
     "ename": "",
     "evalue": "",
     "output_type": "error",
     "traceback": [
      "\u001b[1;31mnotebook controller is DISPOSED. \n",
      "\u001b[1;31mView Jupyter <a href='command:jupyter.viewOutput'>log</a> for further details."
     ]
    }
   ],
   "source": [
    "df_units.to_excel('unit_co_ma.xlsx')"
   ]
  },
  {
   "cell_type": "markdown",
   "metadata": {},
   "source": [
    "### Getting only unique assessments - Filtering"
   ]
  },
  {
   "cell_type": "code",
   "execution_count": null,
   "metadata": {},
   "outputs": [
    {
     "ename": "",
     "evalue": "",
     "output_type": "error",
     "traceback": [
      "\u001b[1;31mnotebook controller is DISPOSED. \n",
      "\u001b[1;31mView Jupyter <a href='command:jupyter.viewOutput'>log</a> for further details."
     ]
    },
    {
     "ename": "",
     "evalue": "",
     "output_type": "error",
     "traceback": [
      "\u001b[1;31mnotebook controller is DISPOSED. \n",
      "\u001b[1;31mView Jupyter <a href='command:jupyter.viewOutput'>log</a> for further details."
     ]
    },
    {
     "ename": "",
     "evalue": "",
     "output_type": "error",
     "traceback": [
      "\u001b[1;31mnotebook controller is DISPOSED. \n",
      "\u001b[1;31mView Jupyter <a href='command:jupyter.viewOutput'>log</a> for further details."
     ]
    }
   ],
   "source": [
    "def clean_assessments(assessments):\n",
    "    if isinstance(assessments, list):  # Check if it's already a list\n",
    "        assessments = \" \".join(assessments)  # Convert the list to a single string\n",
    "    assessments = assessments.strip(\"[]\").replace(\"'\", \"\").replace('\"', \"\")\n",
    "    return [x.strip() for x in assessments.split(\"•\") if x.strip()]\n",
    "\n",
    "df_units[\"Assessments_cleaned\"] = df_units[\"Assessments\"].apply(clean_assessments)\n"
   ]
  },
  {
   "cell_type": "code",
   "execution_count": 26,
   "metadata": {},
   "outputs": [
    {
     "data": {
      "text/plain": [
       "0    [activities such as case studies, critiques, l...\n",
       "1                                                   []\n",
       "2    [activities such as case studies, critiques, l...\n",
       "3    [activities such as case studies, critiques, l...\n",
       "4                                                   []\n",
       "Name: Assessments_cleaned, dtype: object"
      ]
     },
     "execution_count": 26,
     "metadata": {},
     "output_type": "execute_result"
    },
    {
     "ename": "",
     "evalue": "",
     "output_type": "error",
     "traceback": [
      "\u001b[1;31mnotebook controller is DISPOSED. \n",
      "\u001b[1;31mView Jupyter <a href='command:jupyter.viewOutput'>log</a> for further details."
     ]
    },
    {
     "ename": "",
     "evalue": "",
     "output_type": "error",
     "traceback": [
      "\u001b[1;31mnotebook controller is DISPOSED. \n",
      "\u001b[1;31mView Jupyter <a href='command:jupyter.viewOutput'>log</a> for further details."
     ]
    },
    {
     "ename": "",
     "evalue": "",
     "output_type": "error",
     "traceback": [
      "\u001b[1;31mnotebook controller is DISPOSED. \n",
      "\u001b[1;31mView Jupyter <a href='command:jupyter.viewOutput'>log</a> for further details."
     ]
    }
   ],
   "source": [
    "df_units[\"Assessments_cleaned\"]"
   ]
  },
  {
   "cell_type": "code",
   "execution_count": 13,
   "metadata": {},
   "outputs": [
    {
     "ename": "KeyError",
     "evalue": "'Assessments_cleaned'",
     "output_type": "error",
     "traceback": [
      "\u001b[1;31m---------------------------------------------------------------------------\u001b[0m",
      "\u001b[1;31mKeyError\u001b[0m                                  Traceback (most recent call last)",
      "File \u001b[1;32mc:\\Users\\rajan\\OneDrive\\Documents\\Generative AI\\genv\\lib\\site-packages\\pandas\\core\\indexes\\base.py:3805\u001b[0m, in \u001b[0;36mIndex.get_loc\u001b[1;34m(self, key)\u001b[0m\n\u001b[0;32m   3804\u001b[0m \u001b[38;5;28;01mtry\u001b[39;00m:\n\u001b[1;32m-> 3805\u001b[0m     \u001b[38;5;28;01mreturn\u001b[39;00m \u001b[38;5;28;43mself\u001b[39;49m\u001b[38;5;241;43m.\u001b[39;49m\u001b[43m_engine\u001b[49m\u001b[38;5;241;43m.\u001b[39;49m\u001b[43mget_loc\u001b[49m\u001b[43m(\u001b[49m\u001b[43mcasted_key\u001b[49m\u001b[43m)\u001b[49m\n\u001b[0;32m   3806\u001b[0m \u001b[38;5;28;01mexcept\u001b[39;00m \u001b[38;5;167;01mKeyError\u001b[39;00m \u001b[38;5;28;01mas\u001b[39;00m err:\n",
      "File \u001b[1;32mindex.pyx:167\u001b[0m, in \u001b[0;36mpandas._libs.index.IndexEngine.get_loc\u001b[1;34m()\u001b[0m\n",
      "File \u001b[1;32mindex.pyx:196\u001b[0m, in \u001b[0;36mpandas._libs.index.IndexEngine.get_loc\u001b[1;34m()\u001b[0m\n",
      "File \u001b[1;32mpandas\\\\_libs\\\\hashtable_class_helper.pxi:7081\u001b[0m, in \u001b[0;36mpandas._libs.hashtable.PyObjectHashTable.get_item\u001b[1;34m()\u001b[0m\n",
      "File \u001b[1;32mpandas\\\\_libs\\\\hashtable_class_helper.pxi:7089\u001b[0m, in \u001b[0;36mpandas._libs.hashtable.PyObjectHashTable.get_item\u001b[1;34m()\u001b[0m\n",
      "\u001b[1;31mKeyError\u001b[0m: 'Assessments_cleaned'",
      "\nThe above exception was the direct cause of the following exception:\n",
      "\u001b[1;31mKeyError\u001b[0m                                  Traceback (most recent call last)",
      "Cell \u001b[1;32mIn[13], line 4\u001b[0m\n\u001b[0;32m      1\u001b[0m \u001b[38;5;66;03m# Step 2: Flatten the list of all assessments and count occurrences\u001b[39;00m\n\u001b[0;32m      2\u001b[0m \u001b[38;5;28;01mfrom\u001b[39;00m \u001b[38;5;21;01mcollections\u001b[39;00m \u001b[38;5;28;01mimport\u001b[39;00m Counter\n\u001b[1;32m----> 4\u001b[0m all_assessments \u001b[38;5;241m=\u001b[39m [item \u001b[38;5;28;01mfor\u001b[39;00m sublist \u001b[38;5;129;01min\u001b[39;00m \u001b[43mdf_units\u001b[49m\u001b[43m[\u001b[49m\u001b[38;5;124;43m\"\u001b[39;49m\u001b[38;5;124;43mAssessments_cleaned\u001b[39;49m\u001b[38;5;124;43m\"\u001b[39;49m\u001b[43m]\u001b[49m \u001b[38;5;28;01mfor\u001b[39;00m item \u001b[38;5;129;01min\u001b[39;00m sublist]\n\u001b[0;32m      5\u001b[0m assessment_counts \u001b[38;5;241m=\u001b[39m Counter(all_assessments)\n",
      "File \u001b[1;32mc:\\Users\\rajan\\OneDrive\\Documents\\Generative AI\\genv\\lib\\site-packages\\pandas\\core\\frame.py:4102\u001b[0m, in \u001b[0;36mDataFrame.__getitem__\u001b[1;34m(self, key)\u001b[0m\n\u001b[0;32m   4100\u001b[0m \u001b[38;5;28;01mif\u001b[39;00m \u001b[38;5;28mself\u001b[39m\u001b[38;5;241m.\u001b[39mcolumns\u001b[38;5;241m.\u001b[39mnlevels \u001b[38;5;241m>\u001b[39m \u001b[38;5;241m1\u001b[39m:\n\u001b[0;32m   4101\u001b[0m     \u001b[38;5;28;01mreturn\u001b[39;00m \u001b[38;5;28mself\u001b[39m\u001b[38;5;241m.\u001b[39m_getitem_multilevel(key)\n\u001b[1;32m-> 4102\u001b[0m indexer \u001b[38;5;241m=\u001b[39m \u001b[38;5;28;43mself\u001b[39;49m\u001b[38;5;241;43m.\u001b[39;49m\u001b[43mcolumns\u001b[49m\u001b[38;5;241;43m.\u001b[39;49m\u001b[43mget_loc\u001b[49m\u001b[43m(\u001b[49m\u001b[43mkey\u001b[49m\u001b[43m)\u001b[49m\n\u001b[0;32m   4103\u001b[0m \u001b[38;5;28;01mif\u001b[39;00m is_integer(indexer):\n\u001b[0;32m   4104\u001b[0m     indexer \u001b[38;5;241m=\u001b[39m [indexer]\n",
      "File \u001b[1;32mc:\\Users\\rajan\\OneDrive\\Documents\\Generative AI\\genv\\lib\\site-packages\\pandas\\core\\indexes\\base.py:3812\u001b[0m, in \u001b[0;36mIndex.get_loc\u001b[1;34m(self, key)\u001b[0m\n\u001b[0;32m   3807\u001b[0m     \u001b[38;5;28;01mif\u001b[39;00m \u001b[38;5;28misinstance\u001b[39m(casted_key, \u001b[38;5;28mslice\u001b[39m) \u001b[38;5;129;01mor\u001b[39;00m (\n\u001b[0;32m   3808\u001b[0m         \u001b[38;5;28misinstance\u001b[39m(casted_key, abc\u001b[38;5;241m.\u001b[39mIterable)\n\u001b[0;32m   3809\u001b[0m         \u001b[38;5;129;01mand\u001b[39;00m \u001b[38;5;28many\u001b[39m(\u001b[38;5;28misinstance\u001b[39m(x, \u001b[38;5;28mslice\u001b[39m) \u001b[38;5;28;01mfor\u001b[39;00m x \u001b[38;5;129;01min\u001b[39;00m casted_key)\n\u001b[0;32m   3810\u001b[0m     ):\n\u001b[0;32m   3811\u001b[0m         \u001b[38;5;28;01mraise\u001b[39;00m InvalidIndexError(key)\n\u001b[1;32m-> 3812\u001b[0m     \u001b[38;5;28;01mraise\u001b[39;00m \u001b[38;5;167;01mKeyError\u001b[39;00m(key) \u001b[38;5;28;01mfrom\u001b[39;00m \u001b[38;5;21;01merr\u001b[39;00m\n\u001b[0;32m   3813\u001b[0m \u001b[38;5;28;01mexcept\u001b[39;00m \u001b[38;5;167;01mTypeError\u001b[39;00m:\n\u001b[0;32m   3814\u001b[0m     \u001b[38;5;66;03m# If we have a listlike key, _check_indexing_error will raise\u001b[39;00m\n\u001b[0;32m   3815\u001b[0m     \u001b[38;5;66;03m#  InvalidIndexError. Otherwise we fall through and re-raise\u001b[39;00m\n\u001b[0;32m   3816\u001b[0m     \u001b[38;5;66;03m#  the TypeError.\u001b[39;00m\n\u001b[0;32m   3817\u001b[0m     \u001b[38;5;28mself\u001b[39m\u001b[38;5;241m.\u001b[39m_check_indexing_error(key)\n",
      "\u001b[1;31mKeyError\u001b[0m: 'Assessments_cleaned'"
     ]
    },
    {
     "ename": "",
     "evalue": "",
     "output_type": "error",
     "traceback": [
      "\u001b[1;31mnotebook controller is DISPOSED. \n",
      "\u001b[1;31mView Jupyter <a href='command:jupyter.viewOutput'>log</a> for further details."
     ]
    }
   ],
   "source": [
    "# Step 2: Flatten the list of all assessments and count occurrences\n",
    "from collections import Counter\n",
    "\n",
    "all_assessments = [item for sublist in df_units[\"Assessments_cleaned\"] for item in sublist]\n",
    "assessment_counts = Counter(all_assessments)\n",
    "\n"
   ]
  },
  {
   "cell_type": "code",
   "execution_count": null,
   "metadata": {},
   "outputs": [
    {
     "ename": "",
     "evalue": "",
     "output_type": "error",
     "traceback": [
      "\u001b[1;31mnotebook controller is DISPOSED. \n",
      "\u001b[1;31mView Jupyter <a href='command:jupyter.viewOutput'>log</a> for further details."
     ]
    },
    {
     "ename": "",
     "evalue": "",
     "output_type": "error",
     "traceback": [
      "\u001b[1;31mnotebook controller is DISPOSED. \n",
      "\u001b[1;31mView Jupyter <a href='command:jupyter.viewOutput'>log</a> for further details."
     ]
    },
    {
     "ename": "",
     "evalue": "",
     "output_type": "error",
     "traceback": [
      "\u001b[1;31mnotebook controller is DISPOSED. \n",
      "\u001b[1;31mView Jupyter <a href='command:jupyter.viewOutput'>log</a> for further details."
     ]
    }
   ],
   "source": [
    "# Step 4: Apply the filtering logic iteratively\n",
    "def filter_assessments(row, assessment_counts, threshold=3):\n",
    "    unique_assessments = []\n",
    "    \n",
    "    for assessment in row:\n",
    "        # If the assessment appears more than once and the unit has more than threshold assessments, remove it\n",
    "        if assessment_counts[assessment] > 1 and len(row) > threshold:\n",
    "            continue  # Remove this assessment from the unit\n",
    "        # If the assessment appears more than once and the unit has less than threshold assessments, keep it\n",
    "        elif assessment_counts[assessment] > 1 and len(row) < threshold:\n",
    "            unique_assessments.append(assessment)\n",
    "        # Otherwise, always add the assessment\n",
    "        else:\n",
    "            unique_assessments.append(assessment)\n",
    "    \n",
    "    return unique_assessments\n",
    "\n",
    "# Step 5: Apply the filtering function to each row (unit)\n",
    "df_units[\"Filtered Assessments\"] = df_units[\"Assessments_cleaned\"].apply(\n",
    "    lambda row: filter_assessments(row, assessment_counts, threshold=3)\n",
    ")\n",
    "\n",
    "\n"
   ]
  },
  {
   "cell_type": "code",
   "execution_count": 29,
   "metadata": {},
   "outputs": [
    {
     "ename": "",
     "evalue": "",
     "output_type": "error",
     "traceback": [
      "\u001b[1;31mnotebook controller is DISPOSED. \n",
      "\u001b[1;31mView Jupyter <a href='command:jupyter.viewOutput'>log</a> for further details."
     ]
    },
    {
     "ename": "",
     "evalue": "",
     "output_type": "error",
     "traceback": [
      "\u001b[1;31mnotebook controller is DISPOSED. \n",
      "\u001b[1;31mView Jupyter <a href='command:jupyter.viewOutput'>log</a> for further details."
     ]
    },
    {
     "ename": "",
     "evalue": "",
     "output_type": "error",
     "traceback": [
      "\u001b[1;31mnotebook controller is DISPOSED. \n",
      "\u001b[1;31mView Jupyter <a href='command:jupyter.viewOutput'>log</a> for further details."
     ]
    }
   ],
   "source": [
    "df_units.to_excel(\"unique_assessments.xlsx\")"
   ]
  },
  {
   "cell_type": "code",
   "execution_count": 30,
   "metadata": {},
   "outputs": [
    {
     "name": "stdout",
     "output_type": "stream",
     "text": [
      "     Unit                               Topic  \\\n",
      "0  Unit 1                        introduction   \n",
      "1  Unit 2               big data architecture   \n",
      "2  Unit 3  parallel processing with mapreduce   \n",
      "3  Unit 4                        hive and pig   \n",
      "4  Unit 5        stream processing with spark   \n",
      "\n",
      "                                            Contents  Teaching Hours  \\\n",
      "0  Concepts of Data Analytics: Descriptive, Diagn...              15   \n",
      "1  Standard Big data architecture - Big data appl...              15   \n",
      "2  Introduction to MapReduce - Sample MapReduce a...              15   \n",
      "3  Hive Architecture - Components - Data Definiti...              15   \n",
      "4  Stream processing Models and Tools - Apache Sp...              15   \n",
      "\n",
      "                                     Course Outcomes  Similarity Score  \\\n",
      "0  understand the big data concepts in real time ...          0.000000   \n",
      "1      analyze the big data under spark architecture          0.526814   \n",
      "2  demonstrate an ability to use hadoop framework...          0.085745   \n",
      "3  demonstrate the programming of big data using ...          0.524799   \n",
      "4      analyze the big data under spark architecture          0.195990   \n",
      "\n",
      "                      Verbs  \\\n",
      "0                understand   \n",
      "1                             \n",
      "2  demonstrateuseprocessing   \n",
      "3          demonstrateusing   \n",
      "4                             \n",
      "\n",
      "                                         Assessments  \\\n",
      "0  [['activities such as case studies, critiques,...   \n",
      "1                                                 []   \n",
      "2  [['activities such as case studies, critiques,...   \n",
      "3  [['activities such as case studies, critiques,...   \n",
      "4                                                 []   \n",
      "\n",
      "                                 Assessments_cleaned  \\\n",
      "0  [activities such as case studies, critiques, l...   \n",
      "1                                                 []   \n",
      "2  [activities such as case studies, critiques, l...   \n",
      "3  [activities such as case studies, critiques, l...   \n",
      "4                                                 []   \n",
      "\n",
      "                                Filtered Assessments  \n",
      "0  [criteria or standards], [activities such as j...  \n",
      "1                                                 []  \n",
      "2  [activities such as case studies, critiques, l...  \n",
      "3  [criteria or standards], [activities such as p...  \n",
      "4                                                 []  \n"
     ]
    },
    {
     "ename": "",
     "evalue": "",
     "output_type": "error",
     "traceback": [
      "\u001b[1;31mnotebook controller is DISPOSED. \n",
      "\u001b[1;31mView Jupyter <a href='command:jupyter.viewOutput'>log</a> for further details."
     ]
    },
    {
     "ename": "",
     "evalue": "",
     "output_type": "error",
     "traceback": [
      "\u001b[1;31mnotebook controller is DISPOSED. \n",
      "\u001b[1;31mView Jupyter <a href='command:jupyter.viewOutput'>log</a> for further details."
     ]
    },
    {
     "ename": "",
     "evalue": "",
     "output_type": "error",
     "traceback": [
      "\u001b[1;31mnotebook controller is DISPOSED. \n",
      "\u001b[1;31mView Jupyter <a href='command:jupyter.viewOutput'>log</a> for further details."
     ]
    }
   ],
   "source": [
    "# Step 4: Apply the filtering logic iteratively\n",
    "def filter_assessments(row, assessment_counts, threshold=3):\n",
    "    # Create a list to hold filtered assessments\n",
    "    filtered_assessments = []\n",
    "    # Iterate over the assessments of each unit\n",
    "    for assessment in row:\n",
    "        # If the assessment appears more than once and the unit has more than threshold assessments, remove it\n",
    "        if assessment_counts[assessment] > 1 and len(row) > threshold:\n",
    "            continue  # Remove this assessment from the unit\n",
    "        # If the assessment appears more than once and the unit has less than threshold assessments, keep it\n",
    "        elif assessment_counts[assessment] > 1 and len(row) < threshold:\n",
    "            filtered_assessments.append(assessment)\n",
    "        # Otherwise, always add the assessment\n",
    "        else:\n",
    "            filtered_assessments.append(assessment)\n",
    "    \n",
    "    return filtered_assessments\n",
    "\n",
    "# Step 5: Apply the filtering function to each row (unit)\n",
    "df_units[\"Filtered Assessments\"] = df_units[\"Assessments_cleaned\"].apply(\n",
    "    lambda row: filter_assessments(row, assessment_counts, threshold=3)\n",
    ")\n",
    "\n",
    "# Step 6: Ensure no unit is left empty but limit to top 3 assessments if necessary\n",
    "def recheck_and_limit_empty_units(df, limit=3):\n",
    "    for index, row in df.iterrows():\n",
    "        # If a unit's filtered assessments are empty, we restore the top 3 from its original assessments\n",
    "        if not row[\"Filtered Assessments\"]:\n",
    "            original_assessments = row[\"Assessments_cleaned\"]\n",
    "            # Ensure that the filtered assessments are limited to the top 3\n",
    "            df.at[index, \"Filtered Assessments\"] = original_assessments[:limit]\n",
    "    return df\n",
    "\n",
    "# Step 7: Apply the recheck to limit to top 3 assessments\n",
    "df_units = recheck_and_limit_empty_units(df_units)\n",
    "\n",
    "# Check the filtered DataFrame\n",
    "print(df_units)"
   ]
  },
  {
   "cell_type": "code",
   "execution_count": 31,
   "metadata": {},
   "outputs": [
    {
     "ename": "",
     "evalue": "",
     "output_type": "error",
     "traceback": [
      "\u001b[1;31mnotebook controller is DISPOSED. \n",
      "\u001b[1;31mView Jupyter <a href='command:jupyter.viewOutput'>log</a> for further details."
     ]
    },
    {
     "ename": "",
     "evalue": "",
     "output_type": "error",
     "traceback": [
      "\u001b[1;31mnotebook controller is DISPOSED. \n",
      "\u001b[1;31mView Jupyter <a href='command:jupyter.viewOutput'>log</a> for further details."
     ]
    },
    {
     "ename": "",
     "evalue": "",
     "output_type": "error",
     "traceback": [
      "\u001b[1;31mnotebook controller is DISPOSED. \n",
      "\u001b[1;31mView Jupyter <a href='command:jupyter.viewOutput'>log</a> for further details."
     ]
    }
   ],
   "source": [
    "df_units.to_excel(\"unique_assessments1.xlsx\")"
   ]
  },
  {
   "cell_type": "code",
   "execution_count": 32,
   "metadata": {},
   "outputs": [
    {
     "data": {
      "text/html": [
       "<div>\n",
       "<style scoped>\n",
       "    .dataframe tbody tr th:only-of-type {\n",
       "        vertical-align: middle;\n",
       "    }\n",
       "\n",
       "    .dataframe tbody tr th {\n",
       "        vertical-align: top;\n",
       "    }\n",
       "\n",
       "    .dataframe thead th {\n",
       "        text-align: right;\n",
       "    }\n",
       "</style>\n",
       "<table border=\"1\" class=\"dataframe\">\n",
       "  <thead>\n",
       "    <tr style=\"text-align: right;\">\n",
       "      <th></th>\n",
       "      <th>Unit</th>\n",
       "      <th>Topic</th>\n",
       "      <th>Contents</th>\n",
       "      <th>Teaching Hours</th>\n",
       "      <th>Course Outcomes</th>\n",
       "      <th>Similarity Score</th>\n",
       "      <th>Verbs</th>\n",
       "      <th>Assessments</th>\n",
       "      <th>Assessments_cleaned</th>\n",
       "      <th>Filtered Assessments</th>\n",
       "    </tr>\n",
       "  </thead>\n",
       "  <tbody>\n",
       "    <tr>\n",
       "      <th>0</th>\n",
       "      <td>Unit 1</td>\n",
       "      <td>introduction</td>\n",
       "      <td>Concepts of Data Analytics: Descriptive, Diagn...</td>\n",
       "      <td>15</td>\n",
       "      <td>understand the big data concepts in real time ...</td>\n",
       "      <td>0.000000</td>\n",
       "      <td>understand</td>\n",
       "      <td>[['activities such as case studies, critiques,...</td>\n",
       "      <td>[activities such as case studies, critiques, l...</td>\n",
       "      <td>[criteria or standards], [activities such as j...</td>\n",
       "    </tr>\n",
       "    <tr>\n",
       "      <th>1</th>\n",
       "      <td>Unit 2</td>\n",
       "      <td>big data architecture</td>\n",
       "      <td>Standard Big data architecture - Big data appl...</td>\n",
       "      <td>15</td>\n",
       "      <td>analyze the big data under spark architecture</td>\n",
       "      <td>0.526814</td>\n",
       "      <td></td>\n",
       "      <td>[]</td>\n",
       "      <td>[]</td>\n",
       "      <td>[]</td>\n",
       "    </tr>\n",
       "    <tr>\n",
       "      <th>2</th>\n",
       "      <td>Unit 3</td>\n",
       "      <td>parallel processing with mapreduce</td>\n",
       "      <td>Introduction to MapReduce - Sample MapReduce a...</td>\n",
       "      <td>15</td>\n",
       "      <td>demonstrate an ability to use hadoop framework...</td>\n",
       "      <td>0.085745</td>\n",
       "      <td>demonstrateuseprocessing</td>\n",
       "      <td>[['activities such as case studies, critiques,...</td>\n",
       "      <td>[activities such as case studies, critiques, l...</td>\n",
       "      <td>[activities such as case studies, critiques, l...</td>\n",
       "    </tr>\n",
       "    <tr>\n",
       "      <th>3</th>\n",
       "      <td>Unit 4</td>\n",
       "      <td>hive and pig</td>\n",
       "      <td>Hive Architecture - Components - Data Definiti...</td>\n",
       "      <td>15</td>\n",
       "      <td>demonstrate the programming of big data using ...</td>\n",
       "      <td>0.524799</td>\n",
       "      <td>demonstrateusing</td>\n",
       "      <td>[['activities such as case studies, critiques,...</td>\n",
       "      <td>[activities such as case studies, critiques, l...</td>\n",
       "      <td>[criteria or standards], [activities such as p...</td>\n",
       "    </tr>\n",
       "    <tr>\n",
       "      <th>4</th>\n",
       "      <td>Unit 5</td>\n",
       "      <td>stream processing with spark</td>\n",
       "      <td>Stream processing Models and Tools - Apache Sp...</td>\n",
       "      <td>15</td>\n",
       "      <td>analyze the big data under spark architecture</td>\n",
       "      <td>0.195990</td>\n",
       "      <td></td>\n",
       "      <td>[]</td>\n",
       "      <td>[]</td>\n",
       "      <td>[]</td>\n",
       "    </tr>\n",
       "  </tbody>\n",
       "</table>\n",
       "</div>"
      ],
      "text/plain": [
       "     Unit                               Topic  \\\n",
       "0  Unit 1                        introduction   \n",
       "1  Unit 2               big data architecture   \n",
       "2  Unit 3  parallel processing with mapreduce   \n",
       "3  Unit 4                        hive and pig   \n",
       "4  Unit 5        stream processing with spark   \n",
       "\n",
       "                                            Contents  Teaching Hours  \\\n",
       "0  Concepts of Data Analytics: Descriptive, Diagn...              15   \n",
       "1  Standard Big data architecture - Big data appl...              15   \n",
       "2  Introduction to MapReduce - Sample MapReduce a...              15   \n",
       "3  Hive Architecture - Components - Data Definiti...              15   \n",
       "4  Stream processing Models and Tools - Apache Sp...              15   \n",
       "\n",
       "                                     Course Outcomes  Similarity Score  \\\n",
       "0  understand the big data concepts in real time ...          0.000000   \n",
       "1      analyze the big data under spark architecture          0.526814   \n",
       "2  demonstrate an ability to use hadoop framework...          0.085745   \n",
       "3  demonstrate the programming of big data using ...          0.524799   \n",
       "4      analyze the big data under spark architecture          0.195990   \n",
       "\n",
       "                      Verbs  \\\n",
       "0                understand   \n",
       "1                             \n",
       "2  demonstrateuseprocessing   \n",
       "3          demonstrateusing   \n",
       "4                             \n",
       "\n",
       "                                         Assessments  \\\n",
       "0  [['activities such as case studies, critiques,...   \n",
       "1                                                 []   \n",
       "2  [['activities such as case studies, critiques,...   \n",
       "3  [['activities such as case studies, critiques,...   \n",
       "4                                                 []   \n",
       "\n",
       "                                 Assessments_cleaned  \\\n",
       "0  [activities such as case studies, critiques, l...   \n",
       "1                                                 []   \n",
       "2  [activities such as case studies, critiques, l...   \n",
       "3  [activities such as case studies, critiques, l...   \n",
       "4                                                 []   \n",
       "\n",
       "                                Filtered Assessments  \n",
       "0  [criteria or standards], [activities such as j...  \n",
       "1                                                 []  \n",
       "2  [activities such as case studies, critiques, l...  \n",
       "3  [criteria or standards], [activities such as p...  \n",
       "4                                                 []  "
      ]
     },
     "execution_count": 32,
     "metadata": {},
     "output_type": "execute_result"
    },
    {
     "ename": "",
     "evalue": "",
     "output_type": "error",
     "traceback": [
      "\u001b[1;31mnotebook controller is DISPOSED. \n",
      "\u001b[1;31mView Jupyter <a href='command:jupyter.viewOutput'>log</a> for further details."
     ]
    },
    {
     "ename": "",
     "evalue": "",
     "output_type": "error",
     "traceback": [
      "\u001b[1;31mnotebook controller is DISPOSED. \n",
      "\u001b[1;31mView Jupyter <a href='command:jupyter.viewOutput'>log</a> for further details."
     ]
    },
    {
     "ename": "",
     "evalue": "",
     "output_type": "error",
     "traceback": [
      "\u001b[1;31mnotebook controller is DISPOSED. \n",
      "\u001b[1;31mView Jupyter <a href='command:jupyter.viewOutput'>log</a> for further details."
     ]
    }
   ],
   "source": [
    "df_units"
   ]
  },
  {
   "cell_type": "code",
   "execution_count": 39,
   "metadata": {},
   "outputs": [
    {
     "ename": "",
     "evalue": "",
     "output_type": "error",
     "traceback": [
      "\u001b[1;31mnotebook controller is DISPOSED. \n",
      "\u001b[1;31mView Jupyter <a href='command:jupyter.viewOutput'>log</a> for further details."
     ]
    },
    {
     "ename": "",
     "evalue": "",
     "output_type": "error",
     "traceback": [
      "\u001b[1;31mnotebook controller is DISPOSED. \n",
      "\u001b[1;31mView Jupyter <a href='command:jupyter.viewOutput'>log</a> for further details."
     ]
    },
    {
     "ename": "",
     "evalue": "",
     "output_type": "error",
     "traceback": [
      "\u001b[1;31mnotebook controller is DISPOSED. \n",
      "\u001b[1;31mView Jupyter <a href='command:jupyter.viewOutput'>log</a> for further details."
     ]
    }
   ],
   "source": [
    "df_units.drop(['Assessments','Assessments_cleaned'],axis=1,inplace=True)"
   ]
  },
  {
   "cell_type": "code",
   "execution_count": 14,
   "metadata": {},
   "outputs": [
    {
     "data": {
      "text/html": [
       "<div>\n",
       "<style scoped>\n",
       "    .dataframe tbody tr th:only-of-type {\n",
       "        vertical-align: middle;\n",
       "    }\n",
       "\n",
       "    .dataframe tbody tr th {\n",
       "        vertical-align: top;\n",
       "    }\n",
       "\n",
       "    .dataframe thead th {\n",
       "        text-align: right;\n",
       "    }\n",
       "</style>\n",
       "<table border=\"1\" class=\"dataframe\">\n",
       "  <thead>\n",
       "    <tr style=\"text-align: right;\">\n",
       "      <th></th>\n",
       "      <th>Unit</th>\n",
       "      <th>Topic</th>\n",
       "      <th>Contents</th>\n",
       "      <th>Teaching Hours</th>\n",
       "      <th>Course Outcomes</th>\n",
       "      <th>Similarity Score</th>\n",
       "    </tr>\n",
       "  </thead>\n",
       "  <tbody>\n",
       "    <tr>\n",
       "      <th>0</th>\n",
       "      <td>Unit 1</td>\n",
       "      <td>introduction</td>\n",
       "      <td>Concepts of Data Analytics: Descriptive, Diagn...</td>\n",
       "      <td>15</td>\n",
       "      <td>understand the fundamental principles of image...</td>\n",
       "      <td>0.000000</td>\n",
       "    </tr>\n",
       "    <tr>\n",
       "      <th>1</th>\n",
       "      <td>Unit 2</td>\n",
       "      <td>big data architecture</td>\n",
       "      <td>Standard Big data architecture - Big data appl...</td>\n",
       "      <td>15</td>\n",
       "      <td>understand the fundamental principles of image...</td>\n",
       "      <td>0.000000</td>\n",
       "    </tr>\n",
       "    <tr>\n",
       "      <th>2</th>\n",
       "      <td>Unit 3</td>\n",
       "      <td>parallel processing with mapreduce</td>\n",
       "      <td>Introduction to MapReduce - Sample MapReduce a...</td>\n",
       "      <td>15</td>\n",
       "      <td>understand the fundamental principles of image...</td>\n",
       "      <td>0.000000</td>\n",
       "    </tr>\n",
       "    <tr>\n",
       "      <th>3</th>\n",
       "      <td>Unit 4</td>\n",
       "      <td>hive and pig</td>\n",
       "      <td>Hive Architecture - Components - Data Definiti...</td>\n",
       "      <td>15</td>\n",
       "      <td>develop proficiency in image enhancement and s...</td>\n",
       "      <td>0.095275</td>\n",
       "    </tr>\n",
       "    <tr>\n",
       "      <th>4</th>\n",
       "      <td>Unit 5</td>\n",
       "      <td>stream processing with spark</td>\n",
       "      <td>Stream processing Models and Tools - Apache Sp...</td>\n",
       "      <td>15</td>\n",
       "      <td>understand the fundamental principles of image...</td>\n",
       "      <td>0.000000</td>\n",
       "    </tr>\n",
       "  </tbody>\n",
       "</table>\n",
       "</div>"
      ],
      "text/plain": [
       "     Unit                               Topic  \\\n",
       "0  Unit 1                        introduction   \n",
       "1  Unit 2               big data architecture   \n",
       "2  Unit 3  parallel processing with mapreduce   \n",
       "3  Unit 4                        hive and pig   \n",
       "4  Unit 5        stream processing with spark   \n",
       "\n",
       "                                            Contents  Teaching Hours  \\\n",
       "0  Concepts of Data Analytics: Descriptive, Diagn...              15   \n",
       "1  Standard Big data architecture - Big data appl...              15   \n",
       "2  Introduction to MapReduce - Sample MapReduce a...              15   \n",
       "3  Hive Architecture - Components - Data Definiti...              15   \n",
       "4  Stream processing Models and Tools - Apache Sp...              15   \n",
       "\n",
       "                                     Course Outcomes  Similarity Score  \n",
       "0  understand the fundamental principles of image...          0.000000  \n",
       "1  understand the fundamental principles of image...          0.000000  \n",
       "2  understand the fundamental principles of image...          0.000000  \n",
       "3  develop proficiency in image enhancement and s...          0.095275  \n",
       "4  understand the fundamental principles of image...          0.000000  "
      ]
     },
     "execution_count": 14,
     "metadata": {},
     "output_type": "execute_result"
    },
    {
     "ename": "",
     "evalue": "",
     "output_type": "error",
     "traceback": [
      "\u001b[1;31mnotebook controller is DISPOSED. \n",
      "\u001b[1;31mView Jupyter <a href='command:jupyter.viewOutput'>log</a> for further details."
     ]
    }
   ],
   "source": [
    "df_units"
   ]
  },
  {
   "cell_type": "code",
   "execution_count": null,
   "metadata": {},
   "outputs": [
    {
     "ename": "",
     "evalue": "",
     "output_type": "error",
     "traceback": [
      "\u001b[1;31mnotebook controller is DISPOSED. \n",
      "\u001b[1;31mView Jupyter <a href='command:jupyter.viewOutput'>log</a> for further details."
     ]
    }
   ],
   "source": [
    "import pandas as pd\n",
    "from io import StringIO\n",
    "import tempfile\n",
    "\n",
    "def create_temp_csv_for_langchain(df):\n",
    "    \"\"\"\n",
    "    Creates a temporary CSV file from a DataFrame and returns its path.\n",
    "\n",
    "    Parameters:\n",
    "        df (pd.DataFrame): The DataFrame to convert.\n",
    "\n",
    "    Returns:\n",
    "        str: The file path of the temporary CSV file.\n",
    "    \"\"\"\n",
    "    temp_file = tempfile.NamedTemporaryFile(delete=False, suffix=\".csv\", mode=\"w\")  # Create a temp file\n",
    "    df.to_csv(temp_file.name, index=False)  # Save the DataFrame as a CSV to the temp file\n",
    "    temp_file.close()  # Close the file to allow external access\n",
    "    return temp_file.name\n",
    "\n",
    "# Example usage:\n"
   ]
  },
  {
   "cell_type": "code",
   "execution_count": null,
   "metadata": {},
   "outputs": [
    {
     "ename": "",
     "evalue": "",
     "output_type": "error",
     "traceback": [
      "\u001b[1;31mnotebook controller is DISPOSED. \n",
      "\u001b[1;31mView Jupyter <a href='command:jupyter.viewOutput'>log</a> for further details."
     ]
    }
   ],
   "source": [
    "from langchain_community.document_loaders.csv_loader import CSVLoader\n"
   ]
  },
  {
   "cell_type": "code",
   "execution_count": 46,
   "metadata": {},
   "outputs": [
    {
     "ename": "",
     "evalue": "",
     "output_type": "error",
     "traceback": [
      "\u001b[1;31mnotebook controller is DISPOSED. \n",
      "\u001b[1;31mView Jupyter <a href='command:jupyter.viewOutput'>log</a> for further details."
     ]
    },
    {
     "ename": "",
     "evalue": "",
     "output_type": "error",
     "traceback": [
      "\u001b[1;31mnotebook controller is DISPOSED. \n",
      "\u001b[1;31mView Jupyter <a href='command:jupyter.viewOutput'>log</a> for further details."
     ]
    },
    {
     "ename": "",
     "evalue": "",
     "output_type": "error",
     "traceback": [
      "\u001b[1;31mnotebook controller is DISPOSED. \n",
      "\u001b[1;31mView Jupyter <a href='command:jupyter.viewOutput'>log</a> for further details."
     ]
    }
   ],
   "source": [
    "\n",
    "temp_csv_path = create_temp_csv_for_langchain(df_units)\n",
    "\n",
    "loader = CSVLoader(file_path=temp_csv_path, csv_args={\n",
    "    'delimiter': ',',\n",
    "    'quotechar': '\"',\n",
    "})\n",
    "\n",
    "documents = loader.load()\n"
   ]
  },
  {
   "cell_type": "code",
   "execution_count": 49,
   "metadata": {},
   "outputs": [
    {
     "data": {
      "text/plain": [
       "\"Unit: Unit 1\\nTopic: introduction\\nContents: Concepts of Data Analytics: Descriptive, Diagnostic, Predictive, Prescriptive analytics - Big Data characteristics: Volume, Velocity, Variety, Veracity of data - Types of data: Structured, Unstructured, Semi-Structured, Metadata - Introduction to Hadoop Scaling - Distributed Framework -Hadoop v/s RDBMS-Brief history of Hadoop.\\nTeaching Hours: 15\\nCourse Outcomes: understand the big data concepts in real time scenario\\nSimilarity Score: 0.0\\nVerbs: understand\\nFiltered Assessments: ['criteria or standards], [activities such as journals, diaries, critiques, problem sets, product reviews, or studies that require students to: test, monitor, judge, or critique readings, performances, or products against established', '], [objective test items such as fill-in-the-blank, matching, labeling, or multiple-choice questions that require students to: recall or recognize terms, facts, and concepts']\""
      ]
     },
     "execution_count": 49,
     "metadata": {},
     "output_type": "execute_result"
    },
    {
     "ename": "",
     "evalue": "",
     "output_type": "error",
     "traceback": [
      "\u001b[1;31mnotebook controller is DISPOSED. \n",
      "\u001b[1;31mView Jupyter <a href='command:jupyter.viewOutput'>log</a> for further details."
     ]
    },
    {
     "ename": "",
     "evalue": "",
     "output_type": "error",
     "traceback": [
      "\u001b[1;31mnotebook controller is DISPOSED. \n",
      "\u001b[1;31mView Jupyter <a href='command:jupyter.viewOutput'>log</a> for further details."
     ]
    },
    {
     "ename": "",
     "evalue": "",
     "output_type": "error",
     "traceback": [
      "\u001b[1;31mnotebook controller is DISPOSED. \n",
      "\u001b[1;31mView Jupyter <a href='command:jupyter.viewOutput'>log</a> for further details."
     ]
    }
   ],
   "source": [
    "documents[0].page_content"
   ]
  },
  {
   "cell_type": "code",
   "execution_count": 59,
   "metadata": {},
   "outputs": [
    {
     "ename": "",
     "evalue": "",
     "output_type": "error",
     "traceback": [
      "\u001b[1;31mnotebook controller is DISPOSED. \n",
      "\u001b[1;31mView Jupyter <a href='command:jupyter.viewOutput'>log</a> for further details."
     ]
    },
    {
     "ename": "",
     "evalue": "",
     "output_type": "error",
     "traceback": [
      "\u001b[1;31mnotebook controller is DISPOSED. \n",
      "\u001b[1;31mView Jupyter <a href='command:jupyter.viewOutput'>log</a> for further details."
     ]
    },
    {
     "ename": "",
     "evalue": "",
     "output_type": "error",
     "traceback": [
      "\u001b[1;31mnotebook controller is DISPOSED. \n",
      "\u001b[1;31mView Jupyter <a href='command:jupyter.viewOutput'>log</a> for further details."
     ]
    }
   ],
   "source": [
    "data = []\n",
    "for doc in documents:\n",
    "    content_lines = doc.page_content.strip().split('\\n')\n",
    "    \n",
    "    if len(content_lines) >= 7:  # Adjusted to match the actual structure\n",
    "        entry = {\n",
    "            \"Unit\": content_lines[0].replace(\"Unit:\", \"\").strip(),\n",
    "            \"Topic\": content_lines[1].replace(\"Topic:\", \"\").strip(),\n",
    "            \"Contents\": content_lines[2].replace(\"Contents:\", \"\").strip(),\n",
    "            \"Teaching Hours\": content_lines[3].replace(\"Teaching Hours:\", \"\").strip(),\n",
    "            \"Course Outcomes\": content_lines[4].replace(\"Course Outcomes:\", \"\").strip(),\n",
    "            \"Similarity Score\": content_lines[5].replace(\"Similarity Score:\", \"\").strip(),\n",
    "            \"Verbs\": content_lines[6].replace(\"Verbs:\", \"\").strip(),\n",
    "            \"Filtered Assessments\": content_lines[7].replace(\"Filtered Assessments:\", \"\").strip(),\n",
    "        }\n",
    "        data.append(entry)"
   ]
  },
  {
   "cell_type": "code",
   "execution_count": null,
   "metadata": {},
   "outputs": [
    {
     "ename": "NameError",
     "evalue": "name 'data' is not defined",
     "output_type": "error",
     "traceback": [
      "\u001b[1;31m---------------------------------------------------------------------------\u001b[0m",
      "\u001b[1;31mNameError\u001b[0m                                 Traceback (most recent call last)",
      "Cell \u001b[1;32mIn[17], line 1\u001b[0m\n\u001b[1;32m----> 1\u001b[0m \u001b[43mdata\u001b[49m\n",
      "\u001b[1;31mNameError\u001b[0m: name 'data' is not defined"
     ]
    },
    {
     "ename": "",
     "evalue": "",
     "output_type": "error",
     "traceback": [
      "\u001b[1;31mnotebook controller is DISPOSED. \n",
      "\u001b[1;31mView Jupyter <a href='command:jupyter.viewOutput'>log</a> for further details."
     ]
    }
   ],
   "source": [
    "data"
   ]
  },
  {
   "cell_type": "code",
   "execution_count": null,
   "metadata": {},
   "outputs": [
    {
     "ename": "",
     "evalue": "",
     "output_type": "error",
     "traceback": [
      "\u001b[1;31mnotebook controller is DISPOSED. \n",
      "\u001b[1;31mView Jupyter <a href='command:jupyter.viewOutput'>log</a> for further details."
     ]
    }
   ],
   "source": []
  }
 ],
 "metadata": {
  "kernelspec": {
   "display_name": "genv",
   "language": "python",
   "name": "python3"
  },
  "language_info": {
   "codemirror_mode": {
    "name": "ipython",
    "version": 3
   },
   "file_extension": ".py",
   "mimetype": "text/x-python",
   "name": "python",
   "nbconvert_exporter": "python",
   "pygments_lexer": "ipython3",
   "version": "3.10.0"
  }
 },
 "nbformat": 4,
 "nbformat_minor": 2
}
