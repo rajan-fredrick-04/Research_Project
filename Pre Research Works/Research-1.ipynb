{
 "cells": [
  {
   "cell_type": "code",
   "execution_count": 1,
   "metadata": {},
   "outputs": [],
   "source": [
    "import re\n",
    "import pandas as pd\n",
    "import pdfplumber\n",
    "import fitz\n",
    "import tabula\n",
    "from nltk.stem import WordNetLemmatizer\n",
    "from nltk.corpus import stopwords"
   ]
  },
  {
   "cell_type": "code",
   "execution_count": 4,
   "metadata": {},
   "outputs": [],
   "source": [
    "# Step 1: Detect tables and get their coordinates using tabula\n",
    "def get_table_regions(pdf_path):\n",
    "    tables = tabula.read_pdf(pdf_path, pages='all', multiple_tables=True, output_format=\"json\", encoding='ISO-8859-1')\n",
    "    table_regions = []\n",
    "\n",
    "    # Extract bounding boxes of the detected tables\n",
    "    for table in tables:\n",
    "        bbox = table['top'], table['left'], table['width'], table['height']\n",
    "        table_regions.append(bbox)\n",
    "\n",
    "    return table_regions\n",
    "\n",
    "# Step 2: Extract text from PDF while ignoring table regions\n",
    "def extract_text_excluding_tables(pdf_path):\n",
    "    text = \"\"\n",
    "    with fitz.open(pdf_path) as pdf:\n",
    "        for page_num in range(pdf.page_count):  # Iterate using page numbers\n",
    "            page = pdf.load_page(page_num)  # Load each page by index\n",
    "            non_table_text = page.get_text(\"text\")  # Extract plain text\n",
    "            if non_table_text:\n",
    "                text += non_table_text\n",
    "    return text\n",
    "\n",
    "# Step 3: Use regex to extract course names and codes\n",
    "def extract_courses(text):\n",
    "    # Improved regex to capture course codes like \"MDS131\", \"MDS161A\", etc.\n",
    "    pattern = r'(MDS\\d{3}[A-Z]?)\\s*([A-Za-z\\s\\-]+)'\n",
    "    courses = re.findall(pattern, text,re.DOTALL)\n",
    "\n",
    "    # Step 4: Clean and organize the results\n",
    "    course_data = []\n",
    "    for code, name in courses:\n",
    "        course_name = ' '.join(name.split())  # Handle multi-word names\n",
    "        course_data.append([code, course_name])\n",
    "\n",
    "    return pd.DataFrame(course_data, columns=['Course Code', 'Course Name'])\n",
    "\n",
    "# Step 5: Main function to extract courses while excluding tables\n",
    "def course_table(pdf_path):\n",
    "    # Get table regions using tabula\n",
    "    table_regions = get_table_regions(pdf_path)\n",
    "\n",
    "    # Extract text excluding tables\n",
    "    text = extract_text_excluding_tables(pdf_path)\n",
    "\n",
    "\n",
    "    review=re.sub('[^a-zA-Z0-9]',' ',text)\n",
    "    review=review.split()\n",
    "    review=\" \".join(review)\n",
    "    # Extract courses\n",
    "    df = extract_courses(review)\n",
    "\n",
    "    return df\n",
    "\n",
    "# Step 6: Specify the PDF path\n",
    "pdf_path = \"./MDS2024_25.pdf\"  # Use the path to your uploaded PDF\n",
    "final_df=course_table(pdf_path)\n",
    "final_df.to_excel(\"Course_info.xlsx\")"
   ]
  }
 ],
 "metadata": {
  "kernelspec": {
   "display_name": "base",
   "language": "python",
   "name": "python3"
  },
  "language_info": {
   "codemirror_mode": {
    "name": "ipython",
    "version": 3
   },
   "file_extension": ".py",
   "mimetype": "text/x-python",
   "name": "python",
   "nbconvert_exporter": "python",
   "pygments_lexer": "ipython3",
   "version": "3.11.5"
  }
 },
 "nbformat": 4,
 "nbformat_minor": 2
}
