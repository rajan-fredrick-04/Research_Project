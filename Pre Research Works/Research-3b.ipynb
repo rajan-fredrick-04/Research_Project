{
 "cells": [
  {
   "cell_type": "code",
   "execution_count": 46,
   "metadata": {},
   "outputs": [],
   "source": [
    "from docx import Document\n",
    "import pandas as pd\n",
    "import nltk\n",
    "import numpy as np\n",
    "import spacy\n",
    "from sklearn.metrics.pairwise import cosine_similarity"
   ]
  },
  {
   "cell_type": "markdown",
   "metadata": {},
   "source": [
    "## Teachers Upload their Syllabus "
   ]
  },
  {
   "cell_type": "code",
   "execution_count": 36,
   "metadata": {},
   "outputs": [],
   "source": [
    "# Load the document\n",
    "doc = Document('Syllabus.docx')\n",
    "\n",
    "# Initialize lists to store table data\n",
    "co_numbers = []\n",
    "course_outcomes = []\n",
    "\n",
    "# Assuming the data is in a table within the Word document\n",
    "for table in doc.tables:\n",
    "    for row in table.rows:\n",
    "        # Get the text from each cell in the row\n",
    "        cells = [cell.text.strip() for cell in row.cells]\n",
    "        \n",
    "        # Skip rows without the expected structure\n",
    "        if len(cells) == 2:\n",
    "            co_numbers.append(cells[0])\n",
    "            course_outcomes.append(cells[1])\n",
    "\n",
    "# Create a DataFrame\n",
    "# Directly create DataFrame from extracted table data if column headings are included\n",
    "df = pd.DataFrame([co_numbers, course_outcomes]).transpose()\n",
    "\n",
    "# Rename columns only if needed\n",
    "df.columns = df.iloc[0]  # Set the first row as the header\n",
    "df = df[1:].reset_index(drop=True)  # Drop the first row and reset the index\n"
   ]
  },
  {
   "cell_type": "code",
   "execution_count": 37,
   "metadata": {},
   "outputs": [
    {
     "data": {
      "text/html": [
       "<div>\n",
       "<style scoped>\n",
       "    .dataframe tbody tr th:only-of-type {\n",
       "        vertical-align: middle;\n",
       "    }\n",
       "\n",
       "    .dataframe tbody tr th {\n",
       "        vertical-align: top;\n",
       "    }\n",
       "\n",
       "    .dataframe thead th {\n",
       "        text-align: right;\n",
       "    }\n",
       "</style>\n",
       "<table border=\"1\" class=\"dataframe\">\n",
       "  <thead>\n",
       "    <tr style=\"text-align: right;\">\n",
       "      <th></th>\n",
       "      <th>No.</th>\n",
       "      <th>Course Outcomes</th>\n",
       "    </tr>\n",
       "  </thead>\n",
       "  <tbody>\n",
       "    <tr>\n",
       "      <th>0</th>\n",
       "      <td>CO1</td>\n",
       "      <td>Understand the fundamental principles of image...</td>\n",
       "    </tr>\n",
       "    <tr>\n",
       "      <th>1</th>\n",
       "      <td>CO2</td>\n",
       "      <td>Develop proficiency in image enhancement and s...</td>\n",
       "    </tr>\n",
       "    <tr>\n",
       "      <th>2</th>\n",
       "      <td>CO3</td>\n",
       "      <td>Develop skills in object detection and recogni...</td>\n",
       "    </tr>\n",
       "    <tr>\n",
       "      <th>3</th>\n",
       "      <td>CO4</td>\n",
       "      <td>Apply the image and video analysis approaches ...</td>\n",
       "    </tr>\n",
       "  </tbody>\n",
       "</table>\n",
       "</div>"
      ],
      "text/plain": [
       "0  No.                                    Course Outcomes\n",
       "0  CO1  Understand the fundamental principles of image...\n",
       "1  CO2  Develop proficiency in image enhancement and s...\n",
       "2  CO3  Develop skills in object detection and recogni...\n",
       "3  CO4  Apply the image and video analysis approaches ..."
      ]
     },
     "execution_count": 37,
     "metadata": {},
     "output_type": "execute_result"
    }
   ],
   "source": [
    "df"
   ]
  },
  {
   "cell_type": "markdown",
   "metadata": {},
   "source": [
    "## Extract Verbs from the Course Outcomes"
   ]
  },
  {
   "cell_type": "code",
   "execution_count": 38,
   "metadata": {},
   "outputs": [],
   "source": [
    "course_outcomes=[]\n",
    "for i in range(len(df)):\n",
    "    data=df['Course Outcomes'].iloc[i]\n",
    "    course_outcomes.append(data)"
   ]
  },
  {
   "cell_type": "code",
   "execution_count": 39,
   "metadata": {},
   "outputs": [
    {
     "data": {
      "text/plain": [
       "['Understand the fundamental principles of image and video analysis',\n",
       " 'Develop proficiency in image enhancement and segmentation',\n",
       " 'Develop skills in object detection and recognition',\n",
       " 'Apply the image and video analysis approaches to solve real world problems']"
      ]
     },
     "execution_count": 39,
     "metadata": {},
     "output_type": "execute_result"
    }
   ],
   "source": [
    "course_outcomes"
   ]
  },
  {
   "cell_type": "code",
   "execution_count": 40,
   "metadata": {},
   "outputs": [],
   "source": [
    "verbs=['VB','VBP','VBD','VBG','VBN']"
   ]
  },
  {
   "cell_type": "code",
   "execution_count": 41,
   "metadata": {},
   "outputs": [
    {
     "name": "stdout",
     "output_type": "stream",
     "text": [
      "[('Understand', 'IN'), ('the', 'DT'), ('fundamental', 'JJ'), ('principles', 'NNS'), ('of', 'IN'), ('image', 'NN'), ('and', 'CC'), ('video', 'NN'), ('analysis', 'NN')]\n",
      "[('Develop', 'NNP'), ('proficiency', 'NN'), ('in', 'IN'), ('image', 'NN'), ('enhancement', 'NN'), ('and', 'CC'), ('segmentation', 'NN')]\n",
      "[('Develop', 'NNP'), ('skills', 'NNS'), ('in', 'IN'), ('object', 'JJ'), ('detection', 'NN'), ('and', 'CC'), ('recognition', 'NN')]\n",
      "[('Apply', 'VB'), ('the', 'DT'), ('image', 'NN'), ('and', 'CC'), ('video', 'NN'), ('analysis', 'NN'), ('approaches', 'NNS'), ('to', 'TO'), ('solve', 'VB'), ('real', 'JJ'), ('world', 'NN'), ('problems', 'NNS')]\n"
     ]
    }
   ],
   "source": [
    "course_verbs=[]\n",
    "for i in range(len(course_outcomes)):\n",
    "    review=course_outcomes[i]\n",
    "    review=review.split()\n",
    "    review=nltk.pos_tag(review)\n",
    "    print(review)\n",
    "    review=[word for word,tag in review if tag in verbs]\n",
    "    course_verbs.append(review)\n"
   ]
  },
  {
   "cell_type": "code",
   "execution_count": 42,
   "metadata": {},
   "outputs": [
    {
     "data": {
      "text/plain": [
       "[[], [], [], ['Apply', 'solve']]"
      ]
     },
     "execution_count": 42,
     "metadata": {},
     "output_type": "execute_result"
    }
   ],
   "source": [
    "course_verbs"
   ]
  },
  {
   "cell_type": "code",
   "execution_count": 43,
   "metadata": {},
   "outputs": [],
   "source": [
    "df_assements=pd.read_excel(\"Course Assessments.xlsx\")"
   ]
  },
  {
   "cell_type": "code",
   "execution_count": 44,
   "metadata": {},
   "outputs": [
    {
     "data": {
      "text/html": [
       "<div>\n",
       "<style scoped>\n",
       "    .dataframe tbody tr th:only-of-type {\n",
       "        vertical-align: middle;\n",
       "    }\n",
       "\n",
       "    .dataframe tbody tr th {\n",
       "        vertical-align: top;\n",
       "    }\n",
       "\n",
       "    .dataframe thead th {\n",
       "        text-align: right;\n",
       "    }\n",
       "</style>\n",
       "<table border=\"1\" class=\"dataframe\">\n",
       "  <thead>\n",
       "    <tr style=\"text-align: right;\">\n",
       "      <th></th>\n",
       "      <th>Unnamed: 0</th>\n",
       "      <th>CO ID</th>\n",
       "      <th>Course Outcome</th>\n",
       "      <th>Verbs</th>\n",
       "      <th>Assessments</th>\n",
       "    </tr>\n",
       "  </thead>\n",
       "  <tbody>\n",
       "    <tr>\n",
       "      <th>0</th>\n",
       "      <td>0</td>\n",
       "      <td>CO1</td>\n",
       "      <td>Understand the essence of research and the imp...</td>\n",
       "      <td>NaN</td>\n",
       "      <td>NaN</td>\n",
       "    </tr>\n",
       "    <tr>\n",
       "      <th>1</th>\n",
       "      <td>1</td>\n",
       "      <td>CO2</td>\n",
       "      <td>Explore the fundamental concepts of data science</td>\n",
       "      <td>NaN</td>\n",
       "      <td>NaN</td>\n",
       "    </tr>\n",
       "    <tr>\n",
       "      <th>2</th>\n",
       "      <td>2</td>\n",
       "      <td>CO3</td>\n",
       "      <td>Understand various machine learning algorithms...</td>\n",
       "      <td>learning, used</td>\n",
       "      <td>Objective test items such as fill-in-the-blank...</td>\n",
       "    </tr>\n",
       "    <tr>\n",
       "      <th>3</th>\n",
       "      <td>3</td>\n",
       "      <td>CO4</td>\n",
       "      <td>Learn to think through the ethics surrounding ...</td>\n",
       "      <td>Learn, think, surrounding</td>\n",
       "      <td>Activities such as research projects, musical ...</td>\n",
       "    </tr>\n",
       "    <tr>\n",
       "      <th>4</th>\n",
       "      <td>4</td>\n",
       "      <td>CO5</td>\n",
       "      <td>Create scientific reports according to specifi...</td>\n",
       "      <td>according, specified</td>\n",
       "      <td>Objective test items such as fill-in-the-blank...</td>\n",
       "    </tr>\n",
       "    <tr>\n",
       "      <th>5</th>\n",
       "      <td>5</td>\n",
       "      <td>CO6</td>\n",
       "      <td>able to understand the concept of the random v...</td>\n",
       "      <td>understand</td>\n",
       "      <td>Objective test items such as fill-in-the-blank...</td>\n",
       "    </tr>\n",
       "    <tr>\n",
       "      <th>6</th>\n",
       "      <td>6</td>\n",
       "      <td>CO7</td>\n",
       "      <td>evaluate condition probabilities and condition...</td>\n",
       "      <td>NaN</td>\n",
       "      <td>NaN</td>\n",
       "    </tr>\n",
       "    <tr>\n",
       "      <th>7</th>\n",
       "      <td>7</td>\n",
       "      <td>CO8</td>\n",
       "      <td>gain the knowledge of applications of discrete...</td>\n",
       "      <td>gain</td>\n",
       "      <td>Activities such as research projects, musical ...</td>\n",
       "    </tr>\n",
       "    <tr>\n",
       "      <th>8</th>\n",
       "      <td>8</td>\n",
       "      <td>CO9</td>\n",
       "      <td>identify the applications of continuous distri...</td>\n",
       "      <td>identify</td>\n",
       "      <td>Objective test items such as fill-in-the-blank...</td>\n",
       "    </tr>\n",
       "    <tr>\n",
       "      <th>9</th>\n",
       "      <td>9</td>\n",
       "      <td>CO10</td>\n",
       "      <td>apply Chebychevs inequality to verify the conv...</td>\n",
       "      <td>verify</td>\n",
       "      <td>Objective test items such as fill-in-the-blank...</td>\n",
       "    </tr>\n",
       "    <tr>\n",
       "      <th>10</th>\n",
       "      <td>10</td>\n",
       "      <td>CO11</td>\n",
       "      <td>Understand the fundamentals of programming lan...</td>\n",
       "      <td>programming</td>\n",
       "      <td>Activities such as problem sets, performances,...</td>\n",
       "    </tr>\n",
       "    <tr>\n",
       "      <th>11</th>\n",
       "      <td>11</td>\n",
       "      <td>CO12</td>\n",
       "      <td>Understand the design paradigms of programming...</td>\n",
       "      <td>NaN</td>\n",
       "      <td>NaN</td>\n",
       "    </tr>\n",
       "    <tr>\n",
       "      <th>12</th>\n",
       "      <td>12</td>\n",
       "      <td>CO13</td>\n",
       "      <td>To examine expressions, subprograms and their ...</td>\n",
       "      <td>examine</td>\n",
       "      <td>Objective test items such as fill-in-the-blank...</td>\n",
       "    </tr>\n",
       "  </tbody>\n",
       "</table>\n",
       "</div>"
      ],
      "text/plain": [
       "    Unnamed: 0  CO ID                                     Course Outcome  \\\n",
       "0            0    CO1  Understand the essence of research and the imp...   \n",
       "1            1    CO2   Explore the fundamental concepts of data science   \n",
       "2            2    CO3  Understand various machine learning algorithms...   \n",
       "3            3    CO4  Learn to think through the ethics surrounding ...   \n",
       "4            4    CO5  Create scientific reports according to specifi...   \n",
       "5            5    CO6  able to understand the concept of the random v...   \n",
       "6            6    CO7  evaluate condition probabilities and condition...   \n",
       "7            7    CO8  gain the knowledge of applications of discrete...   \n",
       "8            8    CO9  identify the applications of continuous distri...   \n",
       "9            9   CO10  apply Chebychevs inequality to verify the conv...   \n",
       "10          10   CO11  Understand the fundamentals of programming lan...   \n",
       "11          11   CO12  Understand the design paradigms of programming...   \n",
       "12          12   CO13  To examine expressions, subprograms and their ...   \n",
       "\n",
       "                        Verbs  \\\n",
       "0                         NaN   \n",
       "1                         NaN   \n",
       "2              learning, used   \n",
       "3   Learn, think, surrounding   \n",
       "4        according, specified   \n",
       "5                  understand   \n",
       "6                         NaN   \n",
       "7                        gain   \n",
       "8                    identify   \n",
       "9                      verify   \n",
       "10                programming   \n",
       "11                        NaN   \n",
       "12                    examine   \n",
       "\n",
       "                                          Assessments  \n",
       "0                                                 NaN  \n",
       "1                                                 NaN  \n",
       "2   Objective test items such as fill-in-the-blank...  \n",
       "3   Activities such as research projects, musical ...  \n",
       "4   Objective test items such as fill-in-the-blank...  \n",
       "5   Objective test items such as fill-in-the-blank...  \n",
       "6                                                 NaN  \n",
       "7   Activities such as research projects, musical ...  \n",
       "8   Objective test items such as fill-in-the-blank...  \n",
       "9   Objective test items such as fill-in-the-blank...  \n",
       "10  Activities such as problem sets, performances,...  \n",
       "11                                                NaN  \n",
       "12  Objective test items such as fill-in-the-blank...  "
      ]
     },
     "execution_count": 44,
     "metadata": {},
     "output_type": "execute_result"
    }
   ],
   "source": [
    "df_assements"
   ]
  },
  {
   "cell_type": "code",
   "execution_count": 45,
   "metadata": {},
   "outputs": [
    {
     "data": {
      "text/plain": [
       "0                           NaN\n",
       "1                           NaN\n",
       "2                learning, used\n",
       "3     Learn, think, surrounding\n",
       "4          according, specified\n",
       "5                    understand\n",
       "6                           NaN\n",
       "7                          gain\n",
       "8                      identify\n",
       "9                        verify\n",
       "10                  programming\n",
       "11                          NaN\n",
       "12                      examine\n",
       "Name: Verbs, dtype: object"
      ]
     },
     "execution_count": 45,
     "metadata": {},
     "output_type": "execute_result"
    }
   ],
   "source": [
    "df_assements['Verbs']"
   ]
  },
  {
   "cell_type": "code",
   "execution_count": 58,
   "metadata": {},
   "outputs": [],
   "source": [
    "flattened_course_verbs = [verb for sublist in course_verbs for verb in sublist]"
   ]
  },
  {
   "cell_type": "code",
   "execution_count": 59,
   "metadata": {},
   "outputs": [
    {
     "data": {
      "text/plain": [
       "['Apply', 'solve']"
      ]
     },
     "execution_count": 59,
     "metadata": {},
     "output_type": "execute_result"
    }
   ],
   "source": [
    "flattened_course_verbs"
   ]
  },
  {
   "cell_type": "code",
   "execution_count": 61,
   "metadata": {},
   "outputs": [
    {
     "data": {
      "text/plain": [
       "['learning',\n",
       " 'used',\n",
       " 'Learn',\n",
       " 'think',\n",
       " 'surrounding',\n",
       " 'according',\n",
       " 'specified',\n",
       " 'understand',\n",
       " 'gain',\n",
       " 'identify',\n",
       " 'verify',\n",
       " 'programming',\n",
       " 'examine']"
      ]
     },
     "execution_count": 61,
     "metadata": {},
     "output_type": "execute_result"
    }
   ],
   "source": [
    "# Convert the 'verbs' column to lists of individual words, ignoring NaNs\n",
    "flattened_assessment_verbs = []\n",
    "for item in df_assements['Verbs'].dropna():\n",
    "    flattened_assessment_verbs.extend([verb.strip() for verb in item.split(',')])\n",
    "\n",
    "flattened_assessment_verbs"
   ]
  },
  {
   "cell_type": "code",
   "execution_count": 63,
   "metadata": {},
   "outputs": [
    {
     "name": "stdout",
     "output_type": "stream",
     "text": [
      "Verb: Apply\n",
      "Assessments for course verb 'Apply': []\n",
      "\n",
      "Verb: solve\n",
      "Assessments for course verb 'solve': ['Activities such as research projects, musical compositions, performances, essays, business plans, website designs, or set designs that require students to: make, build, design or generate something new •', 'Objective test items such as fill-in-the-blank, matching, labeling, or multiple-choice questions that require students to: recall or recognize terms, facts, and concepts •, Activities such as case studies, critiques, labs, papers, projects, debates, or concept maps that require students to: discriminate or select relevant and irrelevant parts • determine how elements function together • determine bias, values, or underlying intent in presented material •, Activities such as journals, diaries, critiques, problem sets, product reviews, or studies that require students to: test, monitor, judge, or critique readings, performances, or products against established • criteria or standards']\n",
      "\n"
     ]
    }
   ],
   "source": [
    "\n",
    "# Load SpaCy model\n",
    "import numpy as np\n",
    "import spacy\n",
    "from sklearn.metrics.pairwise import cosine_similarity\n",
    "\n",
    "# Load SpaCy model\n",
    "nlp = spacy.load(\"en_core_web_md\")\n",
    "\n",
    "# Function to get the SpaCy vector for a word\n",
    "def get_word_vector(word):\n",
    "    doc = nlp(word)\n",
    "    if doc.has_vector:  # Check if the word has a vector\n",
    "        return doc.vector\n",
    "    else:\n",
    "        return np.zeros(nlp.vocab.vectors_length)  # Return a zero vector if word not in vocabulary\n",
    "\n",
    "\n",
    "# Convert course verbs to vectors\n",
    "course_verb_vectors = np.array([get_word_vector(verb) for verb in flattened_course_verbs])\n",
    "\n",
    "# Convert assessment verbs to vectors\n",
    "assessment_verb_vectors = np.array([get_word_vector(verb) for verb in flattened_assessment_verbs])\n",
    "\n",
    "# Set similarity threshold\n",
    "threshold = 0.5  \n",
    "\n",
    "# Dictionary to store matching assessments\n",
    "matching_assessments = {}\n",
    "\n",
    "for i, course_verb in enumerate(flattened_course_verbs):\n",
    "    matching_assessments[course_verb] = []\n",
    "    \n",
    "    # Calculate cosine similarity between the course verb and each assessment verb\n",
    "    sim_scores = cosine_similarity([course_verb_vectors[i]], assessment_verb_vectors).flatten()\n",
    "    \n",
    "    # Find assessment verbs with similarity scores above the threshold\n",
    "    for j, score in enumerate(sim_scores):\n",
    "        if score > threshold:\n",
    "            # Append the assessment description from df_assessments for the matching verb\n",
    "            matching_assessments[course_verb].append(df_assements.iloc[j]['Assessments'])\n",
    "\n",
    "# Print results\n",
    "for verb, assessments in matching_assessments.items():\n",
    "    print(f\"Verb: {verb}\")\n",
    "    print(f\"Assessments for course verb '{verb}': {assessments}\\n\")\n",
    "\n"
   ]
  }
 ],
 "metadata": {
  "kernelspec": {
   "display_name": "base",
   "language": "python",
   "name": "python3"
  },
  "language_info": {
   "codemirror_mode": {
    "name": "ipython",
    "version": 3
   },
   "file_extension": ".py",
   "mimetype": "text/x-python",
   "name": "python",
   "nbconvert_exporter": "python",
   "pygments_lexer": "ipython3",
   "version": "3.11.5"
  }
 },
 "nbformat": 4,
 "nbformat_minor": 2
}
