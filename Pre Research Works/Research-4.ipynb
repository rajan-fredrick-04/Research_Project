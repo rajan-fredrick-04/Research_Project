{
 "cells": [
  {
   "cell_type": "code",
   "execution_count": 9,
   "metadata": {},
   "outputs": [
    {
     "name": "stdout",
     "output_type": "stream",
     "text": [
      "Filtered course outcomes tables have been saved to 'course_outcomes_combined_single_sheet.xlsx'\n"
     ]
    }
   ],
   "source": [
    "import tabula\n",
    "import pandas as pd\n",
    "import re\n",
    "\n",
    "pdf_path = 'MDS2024_25.pdf'\n",
    "\n",
    "# Extract all tables from the PDF with the lattice option to handle table borders better\n",
    "try:\n",
    "    tables_json = tabula.read_pdf(pdf_path, pages='all', multiple_tables=True, output_format=\"json\", encoding='ISO-8859-1', lattice=True)\n",
    "except Exception as e:\n",
    "    print(f\"Error reading PDF: {e}\")\n",
    "    tables_json = []  # Initialize as empty if reading fails\n",
    "\n",
    "# Regular expression pattern to identify \"Course Outcomes\" table\n",
    "pattern = re.compile(r\"Course Outcomes\", re.IGNORECASE)\n",
    "\n",
    "# Filter JSON data for tables with \"Course Outcomes\"\n",
    "course_outcomes_tables = []\n",
    "for table_json in tables_json:\n",
    "    try:\n",
    "        # Convert JSON to DataFrame\n",
    "        table_data = [[cell['text'] for cell in row] for row in table_json['data']]\n",
    "        table = pd.DataFrame(table_data)\n",
    "        \n",
    "        # Check for the pattern in the DataFrame content\n",
    "        if table.apply(lambda row: row.astype(str).str.contains(pattern).any(), axis=1).any():\n",
    "            # Set the first row as header if it matches the expected format\n",
    "            if 'No.' in table.iloc[0].values[0] and 'Course Outcomes' in table.iloc[0].values[1]:\n",
    "                table.columns = table.iloc[0]  # Set first row as header\n",
    "                table = table.drop(0).reset_index(drop=True)  # Drop the header row from data\n",
    "            \n",
    "            # Standardize column names\n",
    "            table.columns = ['No', 'Course Outcomes', 'LRNG Needs', 'Unused_1', 'Unused_2'][:table.shape[1]]\n",
    "            \n",
    "            # Drop unnecessary columns by name\n",
    "            table = table.drop(columns=['LRNG Needs', 'Unused_1', 'Unused_2'], errors='ignore')\n",
    "            \n",
    "            # Fix merged words in 'Course Outcomes' by adding spaces before capital letters or numbers\n",
    "            def fix_merged_words(text):\n",
    "                # Add spaces between lowercase-uppercase or letter-number transitions\n",
    "                return re.sub(r'(?<=[a-z])(?=[A-Z0-9])', ' ', text)\n",
    "            \n",
    "            table['Course Outcomes'] = table['Course Outcomes'].apply(lambda x: fix_merged_words(x))\n",
    "\n",
    "            # Add the table to the list\n",
    "            course_outcomes_tables.append(table)\n",
    "    except Exception as e:\n",
    "        print(f\"Error processing table JSON data: {e}\")\n",
    "\n",
    "# Concatenate all \"Course Outcomes\" tables into a single DataFrame\n",
    "if course_outcomes_tables:\n",
    "    combined_df = pd.concat(course_outcomes_tables, ignore_index=True)\n",
    "    \n",
    "    # Drop duplicate rows\n",
    "    combined_df = combined_df.drop_duplicates()\n",
    "    \n",
    "    # Add \"Verbs\" and \"Assessments\" columns with empty values\n",
    "    combined_df['Verbs'] = \"\"       # Or provide a default value if needed\n",
    "    combined_df['Assessments'] = \"\"  # Or provide a default value if needed\n",
    "    \n",
    "    # Save to Excel file\n",
    "    combined_df.to_excel(\"course_outcomes_combined_single_sheet.xlsx\", index=False)\n",
    "    print(\"Filtered course outcomes tables have been saved to 'course_outcomes_combined_single_sheet.xlsx'\")\n",
    "else:\n",
    "    print(\"No tables containing 'Course Outcomes' found.\")\n"
   ]
  }
 ],
 "metadata": {
  "kernelspec": {
   "display_name": "base",
   "language": "python",
   "name": "python3"
  },
  "language_info": {
   "codemirror_mode": {
    "name": "ipython",
    "version": 3
   },
   "file_extension": ".py",
   "mimetype": "text/x-python",
   "name": "python",
   "nbconvert_exporter": "python",
   "pygments_lexer": "ipython3",
   "version": "3.11.5"
  }
 },
 "nbformat": 4,
 "nbformat_minor": 2
}
